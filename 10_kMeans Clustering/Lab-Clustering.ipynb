{
 "cells": [
  {
   "cell_type": "markdown",
   "metadata": {},
   "source": [
    "# Clustering Lab"
   ]
  },
  {
   "cell_type": "markdown",
   "metadata": {},
   "source": [
    " \n",
    "Based of the amazing work you did in the Movie Industry you've been recruited to the NBA! You are working as the VP of Analytics that helps support a head scout, Mr. Rooney, for the worst team in the NBA probably the Wizards. Mr. Rooney just heard about Data Science and thinks it can solve all the team's problems!!! He wants you to figure out a way to find players that are high performing but maybe not highly paid that you can steal to get the team to the playoffs! \n",
    "\n",
    "In this document you will work through a similar process that we did in class with the NBA data (NBA_Perf_22 and nba_salaries_22), merging them together. This is from 22-23 season, feel free to update to 2023-24 season if you want.\n",
    "# Data Sources:\n",
    "\n",
    "https://www.basketball-reference.com/leagues/NBA_2024_totals.html # reference for performance data\n",
    "https://www.basketball-reference.com/contracts/players.html # reference for salary data\n",
    "\n",
    "\n",
    "Details: \n",
    "\n",
    "- Determine a way to use clustering to estimate based on performance if \n",
    "players are under or over paid, generally. \n",
    "\n",
    "- Then select players you believe would be best for your team and explain why. Do so in three categories: \n",
    "    * Examples that are not good choices (3 or 4) \n",
    "    * Several options that are good choices (3 or 4)\n",
    "    * Several options that could work, assuming you can't get the players in the good category (3 or 4)\n",
    "\n",
    "- You will decide the cutoffs for each category, so you should be able to explain why you chose them.\n",
    "\n",
    "- Provide a well commented and clean report of your findings in a separate notebook that can be presented to Mr. Rooney, keeping in mind he doesn't understand...anything. Include a rationale for variables you included in the model, details on your approach and a overview of the results with supporting visualizations. \n",
    "\n",
    "\n",
    "Hints:\n",
    "\n",
    "- Salary is the variable you are trying to understand \n",
    "- When interpreting you might want to use graphs that include variables that are the most correlated with Salary\n",
    "- You'll need to scale the variables before performing the clustering\n",
    "- Be specific about why you selected the players that you did, more detail is better\n",
    "- Use good coding practices, comment heavily, indent, don't use for loops unless totally necessary and create modular sections that align with some outcome. If necessary create more than one script,list/load libraries at the top and don't include libraries that aren't used. \n",
    "- Be careful for non-traditional characters in the players names, certain graphs won't work when these characters are included.\n"
   ]
  },
  {
   "cell_type": "code",
   "execution_count": 1,
   "metadata": {},
   "outputs": [],
   "source": [
    "import pandas as pd\n",
    "from sklearn.cluster import KMeans\n",
    "from sklearn.metrics import silhouette_score\n",
    "import matplotlib.pyplot as plt\n",
    "import seaborn as sns\n",
    "import numpy as np\n",
    "from sklearn.preprocessing import StandardScaler"
   ]
  },
  {
   "cell_type": "code",
   "execution_count": 24,
   "metadata": {},
   "outputs": [],
   "source": [
    "# loading the dataset\n",
    "perf_df = pd.read_csv('NBA_Perf_22.csv', encoding='latin1')\n",
    "sal_df = pd.read_csv('nba_salaries_22.csv', encoding='latin1')"
   ]
  },
  {
   "cell_type": "code",
   "execution_count": 25,
   "metadata": {},
   "outputs": [
    {
     "data": {
      "application/vnd.microsoft.datawrangler.viewer.v0+json": {
       "columns": [
        {
         "name": "index",
         "rawType": "int64",
         "type": "integer"
        },
        {
         "name": "Player",
         "rawType": "object",
         "type": "string"
        },
        {
         "name": "Pos",
         "rawType": "object",
         "type": "string"
        },
        {
         "name": "Age",
         "rawType": "int64",
         "type": "integer"
        },
        {
         "name": "Tm",
         "rawType": "object",
         "type": "string"
        },
        {
         "name": "G",
         "rawType": "int64",
         "type": "integer"
        },
        {
         "name": "GS",
         "rawType": "int64",
         "type": "integer"
        },
        {
         "name": "MP",
         "rawType": "float64",
         "type": "float"
        },
        {
         "name": "FG",
         "rawType": "float64",
         "type": "float"
        },
        {
         "name": "FGA",
         "rawType": "float64",
         "type": "float"
        },
        {
         "name": "FG%",
         "rawType": "float64",
         "type": "float"
        },
        {
         "name": "3P",
         "rawType": "float64",
         "type": "float"
        },
        {
         "name": "3PA",
         "rawType": "float64",
         "type": "float"
        },
        {
         "name": "3P%",
         "rawType": "float64",
         "type": "float"
        },
        {
         "name": "2P",
         "rawType": "float64",
         "type": "float"
        },
        {
         "name": "2PA",
         "rawType": "float64",
         "type": "float"
        },
        {
         "name": "2P%",
         "rawType": "float64",
         "type": "float"
        },
        {
         "name": "eFG%",
         "rawType": "float64",
         "type": "float"
        },
        {
         "name": "FT",
         "rawType": "float64",
         "type": "float"
        },
        {
         "name": "FTA",
         "rawType": "float64",
         "type": "float"
        },
        {
         "name": "FT%",
         "rawType": "float64",
         "type": "float"
        },
        {
         "name": "ORB",
         "rawType": "float64",
         "type": "float"
        },
        {
         "name": "DRB",
         "rawType": "float64",
         "type": "float"
        },
        {
         "name": "TRB",
         "rawType": "float64",
         "type": "float"
        },
        {
         "name": "AST",
         "rawType": "float64",
         "type": "float"
        },
        {
         "name": "STL",
         "rawType": "float64",
         "type": "float"
        },
        {
         "name": "BLK",
         "rawType": "float64",
         "type": "float"
        },
        {
         "name": "TOV",
         "rawType": "float64",
         "type": "float"
        },
        {
         "name": "PF",
         "rawType": "float64",
         "type": "float"
        },
        {
         "name": "PTS",
         "rawType": "float64",
         "type": "float"
        },
        {
         "name": "Salary",
         "rawType": "float64",
         "type": "float"
        }
       ],
       "conversionMethod": "pd.DataFrame",
       "ref": "0002af9f-462f-46f6-8056-849fc70f0ac4",
       "rows": [
        [
         "0",
         "Precious Achiuwa",
         "C",
         "22",
         "TOR",
         "73",
         "28",
         "23.6",
         "3.6",
         "8.3",
         "0.439",
         "0.8",
         "2.1",
         "0.359",
         "2.9",
         "6.1",
         "0.468",
         "0.486",
         "1.1",
         "1.8",
         "0.595",
         "2.0",
         "4.5",
         "6.5",
         "1.1",
         "0.5",
         "0.6",
         "1.2",
         "2.1",
         "9.1",
         "2840160.0"
        ],
        [
         "1",
         "Steven Adams",
         "C",
         "28",
         "MEM",
         "76",
         "75",
         "26.3",
         "2.8",
         "5.1",
         "0.547",
         "0.0",
         "0.0",
         "0.0",
         "2.8",
         "5.0",
         "0.548",
         "0.547",
         "1.4",
         "2.6",
         "0.543",
         "4.6",
         "5.4",
         "10.0",
         "3.4",
         "0.9",
         "0.8",
         "1.5",
         "2.0",
         "6.9",
         "17926829.0"
        ],
        [
         "2",
         "Bam Adebayo",
         "C",
         "24",
         "MIA",
         "56",
         "56",
         "32.6",
         "7.3",
         "13.0",
         "0.557",
         "0.0",
         "0.1",
         "0.0",
         "7.3",
         "12.9",
         "0.562",
         "0.557",
         "4.6",
         "6.1",
         "0.753",
         "2.4",
         "7.6",
         "10.1",
         "3.4",
         "1.4",
         "0.8",
         "2.6",
         "3.1",
         "19.1",
         "30351780.0"
        ],
        [
         "3",
         "Santi Aldama",
         "PF",
         "21",
         "MEM",
         "32",
         "0",
         "11.3",
         "1.7",
         "4.1",
         "0.402",
         "0.2",
         "1.5",
         "0.125",
         "1.5",
         "2.6",
         "0.56",
         "0.424",
         "0.6",
         "1.0",
         "0.625",
         "1.0",
         "1.7",
         "2.7",
         "0.7",
         "0.2",
         "0.3",
         "0.5",
         "1.1",
         "4.1",
         "2094120.0"
        ],
        [
         "4",
         "Nickeil Alexander-Walker",
         "SG",
         "23",
         "TOT",
         "65",
         "21",
         "22.6",
         "3.9",
         "10.5",
         "0.372",
         "1.6",
         "5.2",
         "0.311",
         "2.3",
         "5.3",
         "0.433",
         "0.449",
         "1.2",
         "1.7",
         "0.743",
         "0.6",
         "2.3",
         "2.9",
         "2.4",
         "0.7",
         "0.4",
         "1.4",
         "1.6",
         "10.6",
         "5009633.0"
        ],
        [
         "7",
         "Grayson Allen",
         "SG",
         "26",
         "MIL",
         "66",
         "61",
         "27.3",
         "3.9",
         "8.6",
         "0.448",
         "2.4",
         "5.9",
         "0.409",
         "1.5",
         "2.7",
         "0.533",
         "0.588",
         "1.0",
         "1.1",
         "0.865",
         "0.5",
         "2.9",
         "3.4",
         "1.5",
         "0.7",
         "0.3",
         "0.7",
         "1.5",
         "11.1",
         "8500000.0"
        ],
        [
         "8",
         "Jarrett Allen",
         "C",
         "23",
         "CLE",
         "56",
         "56",
         "32.3",
         "6.6",
         "9.7",
         "0.677",
         "0.0",
         "0.2",
         "0.1",
         "6.6",
         "9.6",
         "0.688",
         "0.678",
         "2.9",
         "4.2",
         "0.708",
         "3.4",
         "7.3",
         "10.8",
         "1.6",
         "0.8",
         "1.3",
         "1.7",
         "1.7",
         "16.1",
         "20000000.0"
        ],
        [
         "9",
         "Jose Alvarado",
         "PG",
         "23",
         "NOP",
         "54",
         "1",
         "15.4",
         "2.4",
         "5.4",
         "0.446",
         "0.6",
         "2.0",
         "0.291",
         "1.8",
         "3.4",
         "0.538",
         "0.5",
         "0.7",
         "1.0",
         "0.679",
         "0.5",
         "1.4",
         "1.9",
         "2.8",
         "1.3",
         "0.1",
         "0.7",
         "1.4",
         "6.1",
         "1563518.0"
        ],
        [
         "10",
         "Kyle Anderson",
         "PF",
         "28",
         "MEM",
         "69",
         "11",
         "21.5",
         "3.0",
         "6.8",
         "0.446",
         "0.5",
         "1.6",
         "0.33",
         "2.5",
         "5.2",
         "0.481",
         "0.484",
         "1.0",
         "1.5",
         "0.638",
         "1.0",
         "4.3",
         "5.3",
         "2.7",
         "1.1",
         "0.7",
         "1.0",
         "1.6",
         "7.6",
         "8780488.0"
        ],
        [
         "11",
         "Giannis Antetokounmpo",
         "PF",
         "27",
         "MIL",
         "67",
         "67",
         "32.9",
         "10.3",
         "18.6",
         "0.553",
         "1.1",
         "3.6",
         "0.293",
         "9.2",
         "15.0",
         "0.616",
         "0.582",
         "8.3",
         "11.4",
         "0.722",
         "2.0",
         "9.6",
         "11.6",
         "5.8",
         "1.1",
         "1.4",
         "3.3",
         "3.2",
         "29.9",
         "42492492.0"
        ]
       ],
       "shape": {
        "columns": 30,
        "rows": 10
       }
      },
      "text/html": [
       "<div>\n",
       "<style scoped>\n",
       "    .dataframe tbody tr th:only-of-type {\n",
       "        vertical-align: middle;\n",
       "    }\n",
       "\n",
       "    .dataframe tbody tr th {\n",
       "        vertical-align: top;\n",
       "    }\n",
       "\n",
       "    .dataframe thead th {\n",
       "        text-align: right;\n",
       "    }\n",
       "</style>\n",
       "<table border=\"1\" class=\"dataframe\">\n",
       "  <thead>\n",
       "    <tr style=\"text-align: right;\">\n",
       "      <th></th>\n",
       "      <th>Player</th>\n",
       "      <th>Pos</th>\n",
       "      <th>Age</th>\n",
       "      <th>Tm</th>\n",
       "      <th>G</th>\n",
       "      <th>GS</th>\n",
       "      <th>MP</th>\n",
       "      <th>FG</th>\n",
       "      <th>FGA</th>\n",
       "      <th>FG%</th>\n",
       "      <th>...</th>\n",
       "      <th>ORB</th>\n",
       "      <th>DRB</th>\n",
       "      <th>TRB</th>\n",
       "      <th>AST</th>\n",
       "      <th>STL</th>\n",
       "      <th>BLK</th>\n",
       "      <th>TOV</th>\n",
       "      <th>PF</th>\n",
       "      <th>PTS</th>\n",
       "      <th>Salary</th>\n",
       "    </tr>\n",
       "  </thead>\n",
       "  <tbody>\n",
       "    <tr>\n",
       "      <th>0</th>\n",
       "      <td>Precious Achiuwa</td>\n",
       "      <td>C</td>\n",
       "      <td>22</td>\n",
       "      <td>TOR</td>\n",
       "      <td>73</td>\n",
       "      <td>28</td>\n",
       "      <td>23.6</td>\n",
       "      <td>3.6</td>\n",
       "      <td>8.3</td>\n",
       "      <td>0.439</td>\n",
       "      <td>...</td>\n",
       "      <td>2.0</td>\n",
       "      <td>4.5</td>\n",
       "      <td>6.5</td>\n",
       "      <td>1.1</td>\n",
       "      <td>0.5</td>\n",
       "      <td>0.6</td>\n",
       "      <td>1.2</td>\n",
       "      <td>2.1</td>\n",
       "      <td>9.1</td>\n",
       "      <td>2840160.0</td>\n",
       "    </tr>\n",
       "    <tr>\n",
       "      <th>1</th>\n",
       "      <td>Steven Adams</td>\n",
       "      <td>C</td>\n",
       "      <td>28</td>\n",
       "      <td>MEM</td>\n",
       "      <td>76</td>\n",
       "      <td>75</td>\n",
       "      <td>26.3</td>\n",
       "      <td>2.8</td>\n",
       "      <td>5.1</td>\n",
       "      <td>0.547</td>\n",
       "      <td>...</td>\n",
       "      <td>4.6</td>\n",
       "      <td>5.4</td>\n",
       "      <td>10.0</td>\n",
       "      <td>3.4</td>\n",
       "      <td>0.9</td>\n",
       "      <td>0.8</td>\n",
       "      <td>1.5</td>\n",
       "      <td>2.0</td>\n",
       "      <td>6.9</td>\n",
       "      <td>17926829.0</td>\n",
       "    </tr>\n",
       "    <tr>\n",
       "      <th>2</th>\n",
       "      <td>Bam Adebayo</td>\n",
       "      <td>C</td>\n",
       "      <td>24</td>\n",
       "      <td>MIA</td>\n",
       "      <td>56</td>\n",
       "      <td>56</td>\n",
       "      <td>32.6</td>\n",
       "      <td>7.3</td>\n",
       "      <td>13.0</td>\n",
       "      <td>0.557</td>\n",
       "      <td>...</td>\n",
       "      <td>2.4</td>\n",
       "      <td>7.6</td>\n",
       "      <td>10.1</td>\n",
       "      <td>3.4</td>\n",
       "      <td>1.4</td>\n",
       "      <td>0.8</td>\n",
       "      <td>2.6</td>\n",
       "      <td>3.1</td>\n",
       "      <td>19.1</td>\n",
       "      <td>30351780.0</td>\n",
       "    </tr>\n",
       "    <tr>\n",
       "      <th>3</th>\n",
       "      <td>Santi Aldama</td>\n",
       "      <td>PF</td>\n",
       "      <td>21</td>\n",
       "      <td>MEM</td>\n",
       "      <td>32</td>\n",
       "      <td>0</td>\n",
       "      <td>11.3</td>\n",
       "      <td>1.7</td>\n",
       "      <td>4.1</td>\n",
       "      <td>0.402</td>\n",
       "      <td>...</td>\n",
       "      <td>1.0</td>\n",
       "      <td>1.7</td>\n",
       "      <td>2.7</td>\n",
       "      <td>0.7</td>\n",
       "      <td>0.2</td>\n",
       "      <td>0.3</td>\n",
       "      <td>0.5</td>\n",
       "      <td>1.1</td>\n",
       "      <td>4.1</td>\n",
       "      <td>2094120.0</td>\n",
       "    </tr>\n",
       "    <tr>\n",
       "      <th>4</th>\n",
       "      <td>Nickeil Alexander-Walker</td>\n",
       "      <td>SG</td>\n",
       "      <td>23</td>\n",
       "      <td>TOT</td>\n",
       "      <td>65</td>\n",
       "      <td>21</td>\n",
       "      <td>22.6</td>\n",
       "      <td>3.9</td>\n",
       "      <td>10.5</td>\n",
       "      <td>0.372</td>\n",
       "      <td>...</td>\n",
       "      <td>0.6</td>\n",
       "      <td>2.3</td>\n",
       "      <td>2.9</td>\n",
       "      <td>2.4</td>\n",
       "      <td>0.7</td>\n",
       "      <td>0.4</td>\n",
       "      <td>1.4</td>\n",
       "      <td>1.6</td>\n",
       "      <td>10.6</td>\n",
       "      <td>5009633.0</td>\n",
       "    </tr>\n",
       "    <tr>\n",
       "      <th>7</th>\n",
       "      <td>Grayson Allen</td>\n",
       "      <td>SG</td>\n",
       "      <td>26</td>\n",
       "      <td>MIL</td>\n",
       "      <td>66</td>\n",
       "      <td>61</td>\n",
       "      <td>27.3</td>\n",
       "      <td>3.9</td>\n",
       "      <td>8.6</td>\n",
       "      <td>0.448</td>\n",
       "      <td>...</td>\n",
       "      <td>0.5</td>\n",
       "      <td>2.9</td>\n",
       "      <td>3.4</td>\n",
       "      <td>1.5</td>\n",
       "      <td>0.7</td>\n",
       "      <td>0.3</td>\n",
       "      <td>0.7</td>\n",
       "      <td>1.5</td>\n",
       "      <td>11.1</td>\n",
       "      <td>8500000.0</td>\n",
       "    </tr>\n",
       "    <tr>\n",
       "      <th>8</th>\n",
       "      <td>Jarrett Allen</td>\n",
       "      <td>C</td>\n",
       "      <td>23</td>\n",
       "      <td>CLE</td>\n",
       "      <td>56</td>\n",
       "      <td>56</td>\n",
       "      <td>32.3</td>\n",
       "      <td>6.6</td>\n",
       "      <td>9.7</td>\n",
       "      <td>0.677</td>\n",
       "      <td>...</td>\n",
       "      <td>3.4</td>\n",
       "      <td>7.3</td>\n",
       "      <td>10.8</td>\n",
       "      <td>1.6</td>\n",
       "      <td>0.8</td>\n",
       "      <td>1.3</td>\n",
       "      <td>1.7</td>\n",
       "      <td>1.7</td>\n",
       "      <td>16.1</td>\n",
       "      <td>20000000.0</td>\n",
       "    </tr>\n",
       "    <tr>\n",
       "      <th>9</th>\n",
       "      <td>Jose Alvarado</td>\n",
       "      <td>PG</td>\n",
       "      <td>23</td>\n",
       "      <td>NOP</td>\n",
       "      <td>54</td>\n",
       "      <td>1</td>\n",
       "      <td>15.4</td>\n",
       "      <td>2.4</td>\n",
       "      <td>5.4</td>\n",
       "      <td>0.446</td>\n",
       "      <td>...</td>\n",
       "      <td>0.5</td>\n",
       "      <td>1.4</td>\n",
       "      <td>1.9</td>\n",
       "      <td>2.8</td>\n",
       "      <td>1.3</td>\n",
       "      <td>0.1</td>\n",
       "      <td>0.7</td>\n",
       "      <td>1.4</td>\n",
       "      <td>6.1</td>\n",
       "      <td>1563518.0</td>\n",
       "    </tr>\n",
       "    <tr>\n",
       "      <th>10</th>\n",
       "      <td>Kyle Anderson</td>\n",
       "      <td>PF</td>\n",
       "      <td>28</td>\n",
       "      <td>MEM</td>\n",
       "      <td>69</td>\n",
       "      <td>11</td>\n",
       "      <td>21.5</td>\n",
       "      <td>3.0</td>\n",
       "      <td>6.8</td>\n",
       "      <td>0.446</td>\n",
       "      <td>...</td>\n",
       "      <td>1.0</td>\n",
       "      <td>4.3</td>\n",
       "      <td>5.3</td>\n",
       "      <td>2.7</td>\n",
       "      <td>1.1</td>\n",
       "      <td>0.7</td>\n",
       "      <td>1.0</td>\n",
       "      <td>1.6</td>\n",
       "      <td>7.6</td>\n",
       "      <td>8780488.0</td>\n",
       "    </tr>\n",
       "    <tr>\n",
       "      <th>11</th>\n",
       "      <td>Giannis Antetokounmpo</td>\n",
       "      <td>PF</td>\n",
       "      <td>27</td>\n",
       "      <td>MIL</td>\n",
       "      <td>67</td>\n",
       "      <td>67</td>\n",
       "      <td>32.9</td>\n",
       "      <td>10.3</td>\n",
       "      <td>18.6</td>\n",
       "      <td>0.553</td>\n",
       "      <td>...</td>\n",
       "      <td>2.0</td>\n",
       "      <td>9.6</td>\n",
       "      <td>11.6</td>\n",
       "      <td>5.8</td>\n",
       "      <td>1.1</td>\n",
       "      <td>1.4</td>\n",
       "      <td>3.3</td>\n",
       "      <td>3.2</td>\n",
       "      <td>29.9</td>\n",
       "      <td>42492492.0</td>\n",
       "    </tr>\n",
       "  </tbody>\n",
       "</table>\n",
       "<p>10 rows × 30 columns</p>\n",
       "</div>"
      ],
      "text/plain": [
       "                      Player Pos  Age   Tm   G  GS    MP    FG   FGA    FG%  \\\n",
       "0           Precious Achiuwa   C   22  TOR  73  28  23.6   3.6   8.3  0.439   \n",
       "1               Steven Adams   C   28  MEM  76  75  26.3   2.8   5.1  0.547   \n",
       "2                Bam Adebayo   C   24  MIA  56  56  32.6   7.3  13.0  0.557   \n",
       "3               Santi Aldama  PF   21  MEM  32   0  11.3   1.7   4.1  0.402   \n",
       "4   Nickeil Alexander-Walker  SG   23  TOT  65  21  22.6   3.9  10.5  0.372   \n",
       "7              Grayson Allen  SG   26  MIL  66  61  27.3   3.9   8.6  0.448   \n",
       "8              Jarrett Allen   C   23  CLE  56  56  32.3   6.6   9.7  0.677   \n",
       "9              Jose Alvarado  PG   23  NOP  54   1  15.4   2.4   5.4  0.446   \n",
       "10             Kyle Anderson  PF   28  MEM  69  11  21.5   3.0   6.8  0.446   \n",
       "11     Giannis Antetokounmpo  PF   27  MIL  67  67  32.9  10.3  18.6  0.553   \n",
       "\n",
       "    ...  ORB  DRB   TRB  AST  STL  BLK  TOV   PF   PTS      Salary  \n",
       "0   ...  2.0  4.5   6.5  1.1  0.5  0.6  1.2  2.1   9.1   2840160.0  \n",
       "1   ...  4.6  5.4  10.0  3.4  0.9  0.8  1.5  2.0   6.9  17926829.0  \n",
       "2   ...  2.4  7.6  10.1  3.4  1.4  0.8  2.6  3.1  19.1  30351780.0  \n",
       "3   ...  1.0  1.7   2.7  0.7  0.2  0.3  0.5  1.1   4.1   2094120.0  \n",
       "4   ...  0.6  2.3   2.9  2.4  0.7  0.4  1.4  1.6  10.6   5009633.0  \n",
       "7   ...  0.5  2.9   3.4  1.5  0.7  0.3  0.7  1.5  11.1   8500000.0  \n",
       "8   ...  3.4  7.3  10.8  1.6  0.8  1.3  1.7  1.7  16.1  20000000.0  \n",
       "9   ...  0.5  1.4   1.9  2.8  1.3  0.1  0.7  1.4   6.1   1563518.0  \n",
       "10  ...  1.0  4.3   5.3  2.7  1.1  0.7  1.0  1.6   7.6   8780488.0  \n",
       "11  ...  2.0  9.6  11.6  5.8  1.1  1.4  3.3  3.2  29.9  42492492.0  \n",
       "\n",
       "[10 rows x 30 columns]"
      ]
     },
     "execution_count": 25,
     "metadata": {},
     "output_type": "execute_result"
    }
   ],
   "source": [
    "def prepare_nba_data(perf_df, sal_df):\n",
    "    # Step 1: Renaming salary dataframe columns\n",
    "    sal_df.columns = ['Player', 'Salary']\n",
    "    \n",
    "    # Step 2: Cleaning the Salary column BEFORE merging\n",
    "    sal_df['Salary'] = sal_df['Salary'].str.replace('$', '', regex=False).str.replace(',', '', regex=False).astype(float)\n",
    "    \n",
    "    # Step 3: Merging performance and salary data\n",
    "    df = perf_df.merge(sal_df, how='inner', on='Player')\n",
    "    \n",
    "    # Step 4: Filling missing values in performance data with column means\n",
    "    columns_with_nulls = df.columns[df.isnull().any()].tolist()\n",
    "    for col in columns_with_nulls:\n",
    "        df[col] = df[col].fillna(df[col].mean())\n",
    "    \n",
    "    df = df.drop_duplicates(subset=['Player'])\n",
    "    return df\n",
    "\n",
    "df = prepare_nba_data(perf_df, sal_df)\n",
    "df.head(10)"
   ]
  },
  {
   "cell_type": "code",
   "execution_count": 4,
   "metadata": {},
   "outputs": [],
   "source": [
    "#Drop variables that will not be needed or are duplicates (done previously)\n",
    "\n",
    "#Run the clustering algo with your best guess for K\n",
    "\n",
    "# Set your \"best guess\" for number of clusters"
   ]
  },
  {
   "cell_type": "code",
   "execution_count": 26,
   "metadata": {},
   "outputs": [],
   "source": [
    "# Keeping only the features I chose + essential columns (Player, Pos, Salary)\n",
    "features_to_keep = set([\n",
    "    'Player', 'Pos', 'Salary',\n",
    "    '3P', 'AST', 'FG'\n",
    "])\n",
    "\n",
    "df = df[[col for col in df.columns if col in features_to_keep]]"
   ]
  },
  {
   "cell_type": "code",
   "execution_count": 27,
   "metadata": {},
   "outputs": [],
   "source": [
    "# Dropping columns that are not performance features\n",
    "# Scaling the features for each group\n",
    "\n",
    "from sklearn.preprocessing import StandardScaler\n",
    "\n",
    "# Defining the features I want to scale\n",
    "features = ['3P', 'AST', 'FG']\n",
    "\n",
    "# Initializing scaler\n",
    "scaler = StandardScaler()\n",
    "\n",
    "# Scaling only the performance features\n",
    "X_scaled = scaler.fit_transform(df[features])"
   ]
  },
  {
   "cell_type": "code",
   "execution_count": 28,
   "metadata": {},
   "outputs": [],
   "source": [
    "# Your best guess for number of clusters per position (you can later adjust k individually)\n",
    "k_guess = 3\n",
    "\n",
    "# Initializing and fitting KMeans\n",
    "kmeans = KMeans(n_clusters=k_guess, random_state=42, n_init=10)\n",
    "kmeans.fit(X_scaled)\n",
    "\n",
    "# Assigning cluster labels to the original dataframe\n",
    "df['Cluster'] = kmeans.labels_"
   ]
  },
  {
   "cell_type": "code",
   "execution_count": 29,
   "metadata": {},
   "outputs": [
    {
     "data": {
      "application/vnd.plotly.v1+json": {
       "config": {
        "plotlyServerURL": "https://plot.ly"
       },
       "data": [
        {
         "hovertemplate": "color=1<br>Three Pointers Made=%{x}<br>Assists=%{y}<br>Field Goals Made=%{z}<extra></extra>",
         "legendgroup": "1",
         "marker": {
          "color": "#636efa",
          "opacity": 0.8,
          "size": 5,
          "symbol": "circle"
         },
         "mode": "markers",
         "name": "1",
         "scene": "scene",
         "showlegend": true,
         "type": "scatter3d",
         "x": [
          0.8,
          0,
          0.2,
          0,
          0.6,
          0.5,
          0,
          0.4,
          1.2,
          1,
          0.1,
          0,
          0.5,
          0.2,
          0,
          0.3,
          0,
          0.5,
          0,
          0.1,
          0.1,
          0.7,
          0.9,
          0.5,
          0,
          1.2,
          0.5,
          0.4,
          0.6,
          0.7,
          0.4,
          0.7,
          0.9,
          0,
          0,
          1,
          1,
          0.3,
          0.2,
          0.8,
          0.1,
          0,
          0.5,
          1,
          0.3,
          0.4,
          0.7,
          0.9,
          0,
          1,
          0.1,
          0.1,
          0,
          0.3,
          0.7,
          0.2,
          0.3,
          0,
          0.2,
          1.3,
          0.3,
          0.3,
          0,
          1.7,
          0.5,
          0.6,
          0.7,
          0.4,
          0.7,
          1.6,
          1,
          0.7,
          0.1,
          0.2,
          0.1,
          0.7,
          0.3,
          0.7,
          0.5,
          0.8,
          0.6,
          0,
          0.8,
          1,
          0.7,
          0.5,
          0.1,
          0.4,
          1.1,
          0.8,
          0.1,
          0.4,
          0.9,
          0.7,
          0.2,
          0.4,
          0.7,
          0,
          0.1,
          0,
          1,
          0.6,
          1.5,
          1.4,
          0.1,
          0.5,
          0.7,
          1.1,
          0,
          1.1,
          0.7,
          0.5,
          0.6,
          1,
          0.4,
          0.2,
          0.5,
          1.2,
          1.4,
          0,
          0.1,
          1,
          0.9,
          0.9,
          0.4,
          1.1,
          0.9,
          0.8,
          1.1,
          0.4,
          0.5,
          0.4,
          1.1,
          0.7,
          0,
          1.1,
          0.4,
          1.2,
          1,
          0.8,
          0.3,
          0.8,
          0.5,
          0.8,
          1.1,
          1.6,
          0.7,
          0.5,
          0.6,
          0.5,
          0.3,
          0.9,
          0,
          1,
          0.7,
          0.3,
          1.3,
          0.3,
          0,
          0.8,
          0.4,
          1,
          0.6,
          0.5,
          0,
          0,
          0.9,
          1.3,
          0.2,
          0.8,
          1.2,
          1.4,
          0.9,
          0.9,
          1.3,
          0.8,
          0.1,
          0.7,
          0,
          1.2,
          0,
          1.2,
          1,
          1.2,
          1,
          0.1,
          0.1,
          0,
          0.2,
          0.4,
          0.8,
          0,
          0.5,
          0.3,
          0.2,
          0.4,
          1,
          0,
          0.7,
          0.7,
          0.2,
          0.7,
          0.2,
          0.3,
          0.7,
          0.4,
          1.1,
          0,
          1,
          1,
          0.4,
          0.7,
          0.2,
          0.8,
          1.4,
          0.8,
          0.9,
          0,
          1.2,
          0,
          0.4,
          0.3,
          0.6,
          0.3,
          0,
          0
         ],
         "y": [
          1.1,
          3.4,
          0.7,
          1.6,
          2.8,
          2.7,
          0.5,
          0.4,
          1.9,
          2,
          1.4,
          0,
          0.8,
          1.5,
          0.3,
          0.7,
          1,
          1.1,
          0.6,
          0.4,
          0.6,
          1,
          0.3,
          0.8,
          0.5,
          1.1,
          2.1,
          0.7,
          0.7,
          1,
          0.9,
          1.5,
          3.4,
          1.2,
          0,
          1.5,
          4,
          0.3,
          0.5,
          2,
          1.3,
          0.9,
          2.2,
          1.2,
          0.7,
          1.3,
          0.8,
          3.3,
          1.8,
          0.6,
          1.2,
          0.6,
          0.2,
          0.3,
          1.6,
          5.5,
          0.5,
          0.9,
          0.7,
          1,
          0.6,
          0.6,
          1.1,
          1,
          0.9,
          0.9,
          1.3,
          1.2,
          1.9,
          1,
          2.5,
          0.5,
          2,
          2.4,
          0.3,
          0.4,
          0.6,
          4.2,
          0.3,
          2.2,
          2.4,
          1.1,
          2.7,
          1,
          0.9,
          3.7,
          0.3,
          0.3,
          2.3,
          0.6,
          0.1,
          2.1,
          2.1,
          1.7,
          1.2,
          0.6,
          2.1,
          0.2,
          3.4,
          0.4,
          3.6,
          1.4,
          1.1,
          1.2,
          0.6,
          0.3,
          1.5,
          1.9,
          0.6,
          1.9,
          0.9,
          0.8,
          0.4,
          1,
          2.9,
          1.2,
          2,
          1.3,
          1.1,
          2,
          1.5,
          0.6,
          1.2,
          2.6,
          1.1,
          1.1,
          2.5,
          1.3,
          0.7,
          1,
          0.5,
          4.9,
          1.1,
          1.1,
          0.6,
          0.9,
          2.9,
          0.7,
          1,
          2.5,
          2.5,
          0.4,
          0.5,
          1.4,
          0.6,
          0.5,
          0.8,
          1.8,
          0.4,
          3.1,
          1.7,
          0.4,
          0.9,
          2.1,
          1.2,
          0.8,
          1,
          0.5,
          1.1,
          1.8,
          0.7,
          2.8,
          0.9,
          0.9,
          3.1,
          2.8,
          2.1,
          1.5,
          1.2,
          1.6,
          1,
          2,
          0.4,
          1.8,
          1,
          1.1,
          0.4,
          0.9,
          0.3,
          1.3,
          0.5,
          1,
          1.6,
          1.8,
          0,
          0.5,
          0,
          0.5,
          3.6,
          3.8,
          0.5,
          0,
          0.3,
          0.7,
          1.2,
          1.2,
          1.3,
          0,
          0.9,
          1.2,
          0.6,
          1.1,
          1.2,
          0.3,
          1.1,
          1.7,
          2.1,
          1.3,
          1,
          1.4,
          0.3,
          0.6,
          1.7,
          1.4,
          1,
          2.2,
          0.9,
          2,
          1,
          1.3,
          0.7,
          1.8,
          2.4,
          2,
          0.9,
          1.6
         ],
         "z": [
          3.6,
          2.8,
          1.7,
          6.6,
          2.4,
          3,
          1.5,
          0.6,
          1.7,
          3,
          7.6,
          2.2,
          4.7,
          1.3,
          1.3,
          2.3,
          1.8,
          2.6,
          2.4,
          1.1,
          0.5,
          2.5,
          3.4,
          1.6,
          1.3,
          3.1,
          3.6,
          1.7,
          1.2,
          1.6,
          2.9,
          1.5,
          1.6,
          5,
          1,
          1.5,
          2.5,
          0.9,
          1.8,
          3,
          4.5,
          3.8,
          2.7,
          2.6,
          2.4,
          4.5,
          1.2,
          3.6,
          3.4,
          2.3,
          3.1,
          2.4,
          1.2,
          0.5,
          1.6,
          4.6,
          2.1,
          4,
          0.8,
          2.9,
          1.7,
          1.4,
          5.5,
          2,
          2.4,
          2.7,
          3.7,
          1.9,
          2.4,
          2.1,
          2.7,
          1.8,
          5,
          3.4,
          1.1,
          0.9,
          3.5,
          2.7,
          0.8,
          2.2,
          2.4,
          4.4,
          3.7,
          1.9,
          2.7,
          1.5,
          3.2,
          0.7,
          2.6,
          1.1,
          1,
          2.3,
          2.6,
          2.4,
          3.1,
          2.1,
          3.5,
          0.4,
          2.4,
          1.9,
          2.7,
          4,
          3,
          2.4,
          1.2,
          1,
          1.9,
          2.7,
          0.9,
          2.3,
          3.4,
          1.9,
          1.7,
          2.7,
          1.9,
          2.4,
          2.5,
          3.5,
          2.2,
          2.5,
          3.1,
          1.3,
          3.5,
          4.1,
          2,
          3.5,
          2.9,
          3.5,
          1.8,
          0.8,
          1.5,
          3.7,
          3.6,
          2.2,
          3.9,
          1.9,
          1.4,
          1.3,
          3.4,
          3.1,
          6.1,
          1.5,
          1,
          3.2,
          1.8,
          2.6,
          1.6,
          2.8,
          1.4,
          2.9,
          1.1,
          2.3,
          1.3,
          3.2,
          1.5,
          1.8,
          3,
          0.9,
          3.3,
          3.1,
          1.4,
          3.2,
          3,
          0.7,
          2.8,
          6,
          3,
          3.1,
          3.3,
          2,
          2.6,
          2.3,
          1.5,
          2.4,
          3.4,
          1.7,
          1.4,
          3,
          1.2,
          2.2,
          3.6,
          2.7,
          3.7,
          3.5,
          1,
          2.7,
          0.4,
          1,
          2.1,
          2.8,
          3.5,
          0.5,
          0.6,
          2.5,
          3.5,
          4.1,
          1.9,
          0.5,
          3.2,
          3.3,
          0.7,
          2.3,
          1.8,
          0.6,
          3.5,
          1.6,
          2.9,
          2.9,
          1.9,
          3.1,
          0.9,
          1.5,
          3,
          3.1,
          2.7,
          3,
          3.2,
          4.4,
          3.1,
          2.8,
          0.7,
          2.3,
          1.6,
          2.7,
          2.3,
          4.1
         ]
        },
        {
         "hovertemplate": "color=0<br>Three Pointers Made=%{x}<br>Assists=%{y}<br>Field Goals Made=%{z}<extra></extra>",
         "legendgroup": "0",
         "marker": {
          "color": "#EF553B",
          "opacity": 0.8,
          "size": 5,
          "symbol": "circle"
         },
         "mode": "markers",
         "name": "0",
         "scene": "scene",
         "showlegend": true,
         "type": "scatter3d",
         "x": [
          0,
          1.6,
          2.4,
          2.4,
          1.5,
          3,
          1.8,
          0.8,
          2,
          2.2,
          1.8,
          1.2,
          3,
          1.4,
          2.6,
          0.9,
          1.4,
          1.4,
          2.1,
          1.9,
          2.1,
          1.1,
          2.4,
          1.4,
          1.2,
          2.2,
          1.8,
          1.9,
          2.5,
          1.6,
          1.8,
          2.5,
          1.7,
          2.2,
          1.6,
          3,
          1.7,
          1.2,
          2.2,
          2.5,
          1.9,
          2.3,
          1.3,
          2.4,
          1.9,
          2.9,
          1.4,
          1.4,
          1.8,
          3.2,
          2.4,
          1.3,
          2.2,
          1.4,
          1.9,
          1.7,
          1.6,
          2.5,
          2.1,
          1.1,
          2.7,
          1.9,
          1.5,
          2.5,
          1.6,
          2.2,
          2.1,
          2.1,
          1.9,
          2.8,
          1.3,
          2.3,
          1.9,
          1.7,
          2.1,
          1.5,
          1.7,
          1.9,
          1.9,
          2.5,
          1.2,
          1.1,
          1.8,
          2.4,
          1.8,
          1.6,
          2.9,
          1.4,
          1,
          1.8,
          2.7,
          0.9,
          0.8,
          3,
          1.5,
          1.9,
          1.8,
          1.2,
          2,
          1.6,
          1.7,
          2.2,
          1.5,
          2.2,
          1.9
         ],
         "y": [
          3.4,
          2.4,
          1.5,
          2.6,
          1.2,
          2.7,
          2.4,
          3.5,
          3,
          3.9,
          1.7,
          1.4,
          1.5,
          4.6,
          2.8,
          4.2,
          2.3,
          2.8,
          1.2,
          3,
          1.9,
          2.8,
          2.5,
          1.8,
          1.8,
          1.3,
          1.3,
          1.9,
          3.6,
          1.3,
          2.8,
          1.7,
          2.1,
          1.9,
          1,
          2.1,
          1.5,
          2.5,
          2.7,
          4.2,
          2.4,
          2.6,
          1.1,
          2.2,
          1.8,
          1,
          3.5,
          4.1,
          3.6,
          2.8,
          1.7,
          3.4,
          2.7,
          1.3,
          2.8,
          3.5,
          1.1,
          1.5,
          2.1,
          4.4,
          2.1,
          3.5,
          0.5,
          2.2,
          1.5,
          1.3,
          1,
          1.3,
          2.7,
          2.3,
          4.2,
          2.9,
          2.1,
          4.4,
          1.3,
          2.5,
          1.7,
          3.5,
          2,
          1.1,
          4.9,
          1.9,
          1.2,
          2.1,
          3.5,
          1.8,
          1.6,
          4,
          2.1,
          1.6,
          1.4,
          4.4,
          2.8,
          2,
          1,
          1.9,
          3.1,
          2.9,
          3.5,
          2.2,
          2.3,
          2.9,
          4.9,
          2.2,
          2.3
         ],
         "z": [
          7.3,
          3.9,
          3.9,
          6.4,
          4.2,
          6.7,
          5.1,
          6.2,
          7,
          5.5,
          3,
          4,
          4.2,
          3.1,
          5.5,
          3.6,
          5.6,
          7.1,
          3,
          3.5,
          4.7,
          5.8,
          5.9,
          3.1,
          6.3,
          3.5,
          2.9,
          3.2,
          5.6,
          3.8,
          2.8,
          5.7,
          4.9,
          4.1,
          3.1,
          5,
          3.9,
          5.8,
          4.7,
          3.9,
          6.3,
          6.1,
          4.5,
          5,
          3.9,
          4,
          6.8,
          5.3,
          5.8,
          5.5,
          3.5,
          3.9,
          4.7,
          4.8,
          3.3,
          2.6,
          5.5,
          4.2,
          6.3,
          3.4,
          4.1,
          6.4,
          4.7,
          4.4,
          3.9,
          5.1,
          2.8,
          4.2,
          3.8,
          4,
          4.7,
          5.1,
          5.6,
          5,
          3.2,
          2.6,
          3.1,
          4.4,
          3.7,
          5.4,
          4.1,
          4.1,
          5.8,
          6.2,
          3.6,
          3.6,
          3.7,
          4.7,
          6.2,
          2.8,
          3.7,
          4.1,
          4.7,
          6.4,
          4.8,
          4.6,
          3.1,
          5.8,
          4,
          4.4,
          3.8,
          4.6,
          4.5,
          6.5,
          6.5
         ]
        },
        {
         "hovertemplate": "color=2<br>Three Pointers Made=%{x}<br>Assists=%{y}<br>Field Goals Made=%{z}<extra></extra>",
         "legendgroup": "2",
         "marker": {
          "color": "#00cc96",
          "opacity": 0.8,
          "size": 5,
          "symbol": "circle"
         },
         "mode": "markers",
         "name": "2",
         "scene": "scene",
         "showlegend": true,
         "type": "scatter3d",
         "x": [
          1.1,
          2,
          2.9,
          3.1,
          1.6,
          2.7,
          1.6,
          2.5,
          1.2,
          0.5,
          2.3,
          1.8,
          4.5,
          0.3,
          0.7,
          1.7,
          2.1,
          3,
          1.4,
          1.3,
          2.6,
          2.9,
          1,
          1.6,
          0.3,
          2.1,
          2.3,
          2.7,
          2,
          1.3,
          3.4,
          2.2,
          2.9,
          2.8,
          1.4,
          3.2,
          2.3,
          1.8,
          2.9,
          2.5,
          3.5,
          1.5,
          1.4,
          1,
          2.8,
          2.5,
          1.7,
          3,
          1.7,
          2.7,
          0.6,
          1.1,
          3.1,
          1.7,
          3,
          3.6,
          2,
          3.7,
          1,
          3.1
         ],
         "y": [
          5.8,
          5.7,
          7.6,
          5.1,
          6.6,
          4.8,
          5.9,
          3.5,
          4.8,
          5.5,
          5.3,
          5.6,
          6.3,
          3.1,
          4.9,
          5.2,
          6.4,
          3.8,
          4.2,
          5.6,
          8.6,
          5.7,
          6.4,
          5.9,
          7,
          8.2,
          10.3,
          4,
          6.8,
          5.6,
          5.8,
          4.8,
          6.2,
          4.5,
          4.3,
          7.3,
          7.5,
          4.3,
          5.1,
          5.4,
          5.3,
          6.7,
          9.2,
          10.8,
          4,
          6.2,
          5.1,
          4.5,
          6.6,
          7.1,
          5.2,
          5.3,
          3.9,
          5.9,
          4.4,
          2.8,
          3.6,
          6.7,
          7.1,
          9.7
         ],
         "z": [
          10.3,
          5.5,
          7.2,
          4.6,
          8.7,
          9.7,
          6.8,
          8.7,
          6.4,
          7,
          4.8,
          6.7,
          8.4,
          9.3,
          10.2,
          4.6,
          10.5,
          7.6,
          9.8,
          8.7,
          8,
          8.6,
          5.2,
          8.5,
          2.9,
          5.6,
          6.3,
          7.6,
          7.1,
          8.2,
          10,
          6.4,
          11.4,
          8.4,
          6.5,
          7.7,
          4.4,
          6.4,
          8.6,
          6.8,
          9.2,
          10.2,
          8.4,
          5.6,
          6.2,
          5.5,
          7.1,
          7.1,
          4.4,
          6.2,
          7.1,
          8.8,
          6.2,
          4.2,
          9.3,
          7.7,
          8.7,
          6.8,
          7,
          9.4
         ]
        }
       ],
       "layout": {
        "legend": {
         "title": {
          "text": "color"
         },
         "tracegroupgap": 0
        },
        "scene": {
         "domain": {
          "x": [
           0,
           1
          ],
          "y": [
           0,
           1
          ]
         },
         "xaxis": {
          "title": {
           "text": "Three Pointers Made"
          }
         },
         "yaxis": {
          "title": {
           "text": "Assists"
          }
         },
         "zaxis": {
          "title": {
           "text": "Field Goals Made"
          }
         }
        },
        "template": {
         "data": {
          "bar": [
           {
            "error_x": {
             "color": "#2a3f5f"
            },
            "error_y": {
             "color": "#2a3f5f"
            },
            "marker": {
             "line": {
              "color": "#E5ECF6",
              "width": 0.5
             },
             "pattern": {
              "fillmode": "overlay",
              "size": 10,
              "solidity": 0.2
             }
            },
            "type": "bar"
           }
          ],
          "barpolar": [
           {
            "marker": {
             "line": {
              "color": "#E5ECF6",
              "width": 0.5
             },
             "pattern": {
              "fillmode": "overlay",
              "size": 10,
              "solidity": 0.2
             }
            },
            "type": "barpolar"
           }
          ],
          "carpet": [
           {
            "aaxis": {
             "endlinecolor": "#2a3f5f",
             "gridcolor": "white",
             "linecolor": "white",
             "minorgridcolor": "white",
             "startlinecolor": "#2a3f5f"
            },
            "baxis": {
             "endlinecolor": "#2a3f5f",
             "gridcolor": "white",
             "linecolor": "white",
             "minorgridcolor": "white",
             "startlinecolor": "#2a3f5f"
            },
            "type": "carpet"
           }
          ],
          "choropleth": [
           {
            "colorbar": {
             "outlinewidth": 0,
             "ticks": ""
            },
            "type": "choropleth"
           }
          ],
          "contour": [
           {
            "colorbar": {
             "outlinewidth": 0,
             "ticks": ""
            },
            "colorscale": [
             [
              0,
              "#0d0887"
             ],
             [
              0.1111111111111111,
              "#46039f"
             ],
             [
              0.2222222222222222,
              "#7201a8"
             ],
             [
              0.3333333333333333,
              "#9c179e"
             ],
             [
              0.4444444444444444,
              "#bd3786"
             ],
             [
              0.5555555555555556,
              "#d8576b"
             ],
             [
              0.6666666666666666,
              "#ed7953"
             ],
             [
              0.7777777777777778,
              "#fb9f3a"
             ],
             [
              0.8888888888888888,
              "#fdca26"
             ],
             [
              1,
              "#f0f921"
             ]
            ],
            "type": "contour"
           }
          ],
          "contourcarpet": [
           {
            "colorbar": {
             "outlinewidth": 0,
             "ticks": ""
            },
            "type": "contourcarpet"
           }
          ],
          "heatmap": [
           {
            "colorbar": {
             "outlinewidth": 0,
             "ticks": ""
            },
            "colorscale": [
             [
              0,
              "#0d0887"
             ],
             [
              0.1111111111111111,
              "#46039f"
             ],
             [
              0.2222222222222222,
              "#7201a8"
             ],
             [
              0.3333333333333333,
              "#9c179e"
             ],
             [
              0.4444444444444444,
              "#bd3786"
             ],
             [
              0.5555555555555556,
              "#d8576b"
             ],
             [
              0.6666666666666666,
              "#ed7953"
             ],
             [
              0.7777777777777778,
              "#fb9f3a"
             ],
             [
              0.8888888888888888,
              "#fdca26"
             ],
             [
              1,
              "#f0f921"
             ]
            ],
            "type": "heatmap"
           }
          ],
          "heatmapgl": [
           {
            "colorbar": {
             "outlinewidth": 0,
             "ticks": ""
            },
            "colorscale": [
             [
              0,
              "#0d0887"
             ],
             [
              0.1111111111111111,
              "#46039f"
             ],
             [
              0.2222222222222222,
              "#7201a8"
             ],
             [
              0.3333333333333333,
              "#9c179e"
             ],
             [
              0.4444444444444444,
              "#bd3786"
             ],
             [
              0.5555555555555556,
              "#d8576b"
             ],
             [
              0.6666666666666666,
              "#ed7953"
             ],
             [
              0.7777777777777778,
              "#fb9f3a"
             ],
             [
              0.8888888888888888,
              "#fdca26"
             ],
             [
              1,
              "#f0f921"
             ]
            ],
            "type": "heatmapgl"
           }
          ],
          "histogram": [
           {
            "marker": {
             "pattern": {
              "fillmode": "overlay",
              "size": 10,
              "solidity": 0.2
             }
            },
            "type": "histogram"
           }
          ],
          "histogram2d": [
           {
            "colorbar": {
             "outlinewidth": 0,
             "ticks": ""
            },
            "colorscale": [
             [
              0,
              "#0d0887"
             ],
             [
              0.1111111111111111,
              "#46039f"
             ],
             [
              0.2222222222222222,
              "#7201a8"
             ],
             [
              0.3333333333333333,
              "#9c179e"
             ],
             [
              0.4444444444444444,
              "#bd3786"
             ],
             [
              0.5555555555555556,
              "#d8576b"
             ],
             [
              0.6666666666666666,
              "#ed7953"
             ],
             [
              0.7777777777777778,
              "#fb9f3a"
             ],
             [
              0.8888888888888888,
              "#fdca26"
             ],
             [
              1,
              "#f0f921"
             ]
            ],
            "type": "histogram2d"
           }
          ],
          "histogram2dcontour": [
           {
            "colorbar": {
             "outlinewidth": 0,
             "ticks": ""
            },
            "colorscale": [
             [
              0,
              "#0d0887"
             ],
             [
              0.1111111111111111,
              "#46039f"
             ],
             [
              0.2222222222222222,
              "#7201a8"
             ],
             [
              0.3333333333333333,
              "#9c179e"
             ],
             [
              0.4444444444444444,
              "#bd3786"
             ],
             [
              0.5555555555555556,
              "#d8576b"
             ],
             [
              0.6666666666666666,
              "#ed7953"
             ],
             [
              0.7777777777777778,
              "#fb9f3a"
             ],
             [
              0.8888888888888888,
              "#fdca26"
             ],
             [
              1,
              "#f0f921"
             ]
            ],
            "type": "histogram2dcontour"
           }
          ],
          "mesh3d": [
           {
            "colorbar": {
             "outlinewidth": 0,
             "ticks": ""
            },
            "type": "mesh3d"
           }
          ],
          "parcoords": [
           {
            "line": {
             "colorbar": {
              "outlinewidth": 0,
              "ticks": ""
             }
            },
            "type": "parcoords"
           }
          ],
          "pie": [
           {
            "automargin": true,
            "type": "pie"
           }
          ],
          "scatter": [
           {
            "fillpattern": {
             "fillmode": "overlay",
             "size": 10,
             "solidity": 0.2
            },
            "type": "scatter"
           }
          ],
          "scatter3d": [
           {
            "line": {
             "colorbar": {
              "outlinewidth": 0,
              "ticks": ""
             }
            },
            "marker": {
             "colorbar": {
              "outlinewidth": 0,
              "ticks": ""
             }
            },
            "type": "scatter3d"
           }
          ],
          "scattercarpet": [
           {
            "marker": {
             "colorbar": {
              "outlinewidth": 0,
              "ticks": ""
             }
            },
            "type": "scattercarpet"
           }
          ],
          "scattergeo": [
           {
            "marker": {
             "colorbar": {
              "outlinewidth": 0,
              "ticks": ""
             }
            },
            "type": "scattergeo"
           }
          ],
          "scattergl": [
           {
            "marker": {
             "colorbar": {
              "outlinewidth": 0,
              "ticks": ""
             }
            },
            "type": "scattergl"
           }
          ],
          "scattermapbox": [
           {
            "marker": {
             "colorbar": {
              "outlinewidth": 0,
              "ticks": ""
             }
            },
            "type": "scattermapbox"
           }
          ],
          "scatterpolar": [
           {
            "marker": {
             "colorbar": {
              "outlinewidth": 0,
              "ticks": ""
             }
            },
            "type": "scatterpolar"
           }
          ],
          "scatterpolargl": [
           {
            "marker": {
             "colorbar": {
              "outlinewidth": 0,
              "ticks": ""
             }
            },
            "type": "scatterpolargl"
           }
          ],
          "scatterternary": [
           {
            "marker": {
             "colorbar": {
              "outlinewidth": 0,
              "ticks": ""
             }
            },
            "type": "scatterternary"
           }
          ],
          "surface": [
           {
            "colorbar": {
             "outlinewidth": 0,
             "ticks": ""
            },
            "colorscale": [
             [
              0,
              "#0d0887"
             ],
             [
              0.1111111111111111,
              "#46039f"
             ],
             [
              0.2222222222222222,
              "#7201a8"
             ],
             [
              0.3333333333333333,
              "#9c179e"
             ],
             [
              0.4444444444444444,
              "#bd3786"
             ],
             [
              0.5555555555555556,
              "#d8576b"
             ],
             [
              0.6666666666666666,
              "#ed7953"
             ],
             [
              0.7777777777777778,
              "#fb9f3a"
             ],
             [
              0.8888888888888888,
              "#fdca26"
             ],
             [
              1,
              "#f0f921"
             ]
            ],
            "type": "surface"
           }
          ],
          "table": [
           {
            "cells": {
             "fill": {
              "color": "#EBF0F8"
             },
             "line": {
              "color": "white"
             }
            },
            "header": {
             "fill": {
              "color": "#C8D4E3"
             },
             "line": {
              "color": "white"
             }
            },
            "type": "table"
           }
          ]
         },
         "layout": {
          "annotationdefaults": {
           "arrowcolor": "#2a3f5f",
           "arrowhead": 0,
           "arrowwidth": 1
          },
          "autotypenumbers": "strict",
          "coloraxis": {
           "colorbar": {
            "outlinewidth": 0,
            "ticks": ""
           }
          },
          "colorscale": {
           "diverging": [
            [
             0,
             "#8e0152"
            ],
            [
             0.1,
             "#c51b7d"
            ],
            [
             0.2,
             "#de77ae"
            ],
            [
             0.3,
             "#f1b6da"
            ],
            [
             0.4,
             "#fde0ef"
            ],
            [
             0.5,
             "#f7f7f7"
            ],
            [
             0.6,
             "#e6f5d0"
            ],
            [
             0.7,
             "#b8e186"
            ],
            [
             0.8,
             "#7fbc41"
            ],
            [
             0.9,
             "#4d9221"
            ],
            [
             1,
             "#276419"
            ]
           ],
           "sequential": [
            [
             0,
             "#0d0887"
            ],
            [
             0.1111111111111111,
             "#46039f"
            ],
            [
             0.2222222222222222,
             "#7201a8"
            ],
            [
             0.3333333333333333,
             "#9c179e"
            ],
            [
             0.4444444444444444,
             "#bd3786"
            ],
            [
             0.5555555555555556,
             "#d8576b"
            ],
            [
             0.6666666666666666,
             "#ed7953"
            ],
            [
             0.7777777777777778,
             "#fb9f3a"
            ],
            [
             0.8888888888888888,
             "#fdca26"
            ],
            [
             1,
             "#f0f921"
            ]
           ],
           "sequentialminus": [
            [
             0,
             "#0d0887"
            ],
            [
             0.1111111111111111,
             "#46039f"
            ],
            [
             0.2222222222222222,
             "#7201a8"
            ],
            [
             0.3333333333333333,
             "#9c179e"
            ],
            [
             0.4444444444444444,
             "#bd3786"
            ],
            [
             0.5555555555555556,
             "#d8576b"
            ],
            [
             0.6666666666666666,
             "#ed7953"
            ],
            [
             0.7777777777777778,
             "#fb9f3a"
            ],
            [
             0.8888888888888888,
             "#fdca26"
            ],
            [
             1,
             "#f0f921"
            ]
           ]
          },
          "colorway": [
           "#636efa",
           "#EF553B",
           "#00cc96",
           "#ab63fa",
           "#FFA15A",
           "#19d3f3",
           "#FF6692",
           "#B6E880",
           "#FF97FF",
           "#FECB52"
          ],
          "font": {
           "color": "#2a3f5f"
          },
          "geo": {
           "bgcolor": "white",
           "lakecolor": "white",
           "landcolor": "#E5ECF6",
           "showlakes": true,
           "showland": true,
           "subunitcolor": "white"
          },
          "hoverlabel": {
           "align": "left"
          },
          "hovermode": "closest",
          "mapbox": {
           "style": "light"
          },
          "paper_bgcolor": "white",
          "plot_bgcolor": "#E5ECF6",
          "polar": {
           "angularaxis": {
            "gridcolor": "white",
            "linecolor": "white",
            "ticks": ""
           },
           "bgcolor": "#E5ECF6",
           "radialaxis": {
            "gridcolor": "white",
            "linecolor": "white",
            "ticks": ""
           }
          },
          "scene": {
           "xaxis": {
            "backgroundcolor": "#E5ECF6",
            "gridcolor": "white",
            "gridwidth": 2,
            "linecolor": "white",
            "showbackground": true,
            "ticks": "",
            "zerolinecolor": "white"
           },
           "yaxis": {
            "backgroundcolor": "#E5ECF6",
            "gridcolor": "white",
            "gridwidth": 2,
            "linecolor": "white",
            "showbackground": true,
            "ticks": "",
            "zerolinecolor": "white"
           },
           "zaxis": {
            "backgroundcolor": "#E5ECF6",
            "gridcolor": "white",
            "gridwidth": 2,
            "linecolor": "white",
            "showbackground": true,
            "ticks": "",
            "zerolinecolor": "white"
           }
          },
          "shapedefaults": {
           "line": {
            "color": "#2a3f5f"
           }
          },
          "ternary": {
           "aaxis": {
            "gridcolor": "white",
            "linecolor": "white",
            "ticks": ""
           },
           "baxis": {
            "gridcolor": "white",
            "linecolor": "white",
            "ticks": ""
           },
           "bgcolor": "#E5ECF6",
           "caxis": {
            "gridcolor": "white",
            "linecolor": "white",
            "ticks": ""
           }
          },
          "title": {
           "x": 0.05
          },
          "xaxis": {
           "automargin": true,
           "gridcolor": "white",
           "linecolor": "white",
           "ticks": "",
           "title": {
            "standoff": 15
           },
           "zerolinecolor": "white",
           "zerolinewidth": 2
          },
          "yaxis": {
           "automargin": true,
           "gridcolor": "white",
           "linecolor": "white",
           "ticks": "",
           "title": {
            "standoff": 15
           },
           "zerolinecolor": "white",
           "zerolinewidth": 2
          }
         }
        },
        "title": {
         "text": "NBA Players Clustering Visualization"
        }
       }
      }
     },
     "metadata": {},
     "output_type": "display_data"
    }
   ],
   "source": [
    "#Creating a visualization of the results with 2 or 3 variables that you think will best\n",
    "#Differentiating the clusters\n",
    "import plotly.express as px\n",
    "\n",
    "# Creating a 3D scatter plot\n",
    "fig = px.scatter_3d(\n",
    "    df,\n",
    "    x='3P',\n",
    "    y='AST',\n",
    "    z='FG',\n",
    "    color=df['Cluster'].astype(str),\n",
    "    title='NBA Players Clustering Visualization',\n",
    "    labels={'3P': 'Three Pointers Made', 'AST': 'Assists', 'FG': 'Field Goals Made'}\n",
    ")\n",
    "\n",
    "fig.update_traces(marker=dict(size=5, opacity=0.8))\n",
    "fig.show()\n",
    "\n"
   ]
  },
  {
   "cell_type": "code",
   "execution_count": 12,
   "metadata": {},
   "outputs": [
    {
     "name": "stdout",
     "output_type": "stream",
     "text": [
      "Total Variance Explained: 0.6466\n",
      "Silhouette Score: 0.3980\n"
     ]
    }
   ],
   "source": [
    "#Evaluate the quality of the clustering using total variance explained and silhouette scores\n",
    "\n",
    "from sklearn.metrics import silhouette_score\n",
    "import numpy as np\n",
    "\n",
    "# 1. Total Variance Explained\n",
    "# Total sum of squares\n",
    "total_ss = np.sum((X_scaled - np.mean(X_scaled, axis=0))**2)\n",
    "between_ss = total_ss - kmeans.inertia_\n",
    "\n",
    "# Variance explained\n",
    "variance_explained = between_ss / total_ss\n",
    "print(f\"Total Variance Explained: {variance_explained:.4f}\")\n",
    "\n",
    "# 2. Silhouette Score\n",
    "silhouette_avg = silhouette_score(X_scaled, kmeans.labels_)\n",
    "print(f\"Silhouette Score: {silhouette_avg:.4f}\")\n"
   ]
  },
  {
   "cell_type": "code",
   "execution_count": 13,
   "metadata": {},
   "outputs": [
    {
     "data": {
      "image/png": "[encoded data removed]",
      "text/plain": [
       "<Figure size 1400x600 with 2 Axes>"
      ]
     },
     "metadata": {},
     "output_type": "display_data"
    }
   ],
   "source": [
    "#Determine the ideal number of clusters using the elbow method and the silhouette coefficient\n",
    "#Visualizing the results of the elbow method\n",
    "\n",
    "# Elbow Method/Silhouette Coefficient Analysis\n",
    "from sklearn.cluster import KMeans\n",
    "import matplotlib.pyplot as plt\n",
    "from sklearn.metrics import silhouette_score\n",
    "\n",
    "# Range of k values to try\n",
    "K_range = range(2, 11)\n",
    "\n",
    "inertia_list = []\n",
    "silhouette_list = []\n",
    "\n",
    "for k in K_range:\n",
    "    kmeans_temp = KMeans(n_clusters=k, random_state=42, n_init=10)\n",
    "    kmeans_temp.fit(X_scaled)\n",
    "    \n",
    "    inertia_list.append(kmeans_temp.inertia_)\n",
    "    \n",
    "    sil_score = silhouette_score(X_scaled, kmeans_temp.labels_)\n",
    "    silhouette_list.append(sil_score)\n",
    "\n",
    "# Plotting the results\n",
    "plt.figure(figsize=(14, 6))\n",
    "\n",
    "# 1. Elbow Curve\n",
    "plt.subplot(1, 2, 1)\n",
    "plt.plot(K_range, inertia_list, marker='o')\n",
    "plt.title('Elbow Method (Inertia)')\n",
    "plt.xlabel('Number of Clusters (k)')\n",
    "plt.ylabel('Inertia (Within-Cluster Sum of Squares)')\n",
    "plt.grid(True)\n",
    "\n",
    "# 2. Silhouette Curve\n",
    "plt.subplot(1, 2, 2)\n",
    "plt.plot(K_range, silhouette_list, marker='o', color='orange')\n",
    "plt.title('Silhouette Scores')\n",
    "plt.xlabel('Number of Clusters (k)')\n",
    "plt.ylabel('Silhouette Score')\n",
    "plt.grid(True)\n",
    "\n",
    "plt.tight_layout()\n",
    "plt.show()\n"
   ]
  },
  {
   "cell_type": "code",
   "execution_count": 30,
   "metadata": {},
   "outputs": [
    {
     "data": {
      "application/vnd.plotly.v1+json": {
       "config": {
        "plotlyServerURL": "https://plot.ly"
       },
       "data": [
        {
         "hovertemplate": "color=2<br>3P=%{x}<br>AST=%{y}<br>FG=%{z}<extra></extra>",
         "legendgroup": "2",
         "marker": {
          "color": "#636efa",
          "opacity": 0.8,
          "size": 5,
          "symbol": "circle"
         },
         "mode": "markers",
         "name": "2",
         "scene": "scene",
         "showlegend": true,
         "type": "scatter3d",
         "x": [
          0.8,
          0,
          0.2,
          0.6,
          0.5,
          0,
          0.4,
          1.2,
          1,
          0,
          0.5,
          0.2,
          0,
          0.3,
          0,
          0.5,
          0,
          0.1,
          0.1,
          0.7,
          0.9,
          0.5,
          0,
          1.2,
          0.5,
          0.4,
          0.6,
          0.7,
          0.4,
          0.7,
          0.9,
          0,
          0,
          1,
          0.3,
          0.2,
          0.8,
          0.1,
          0,
          0.5,
          1,
          0.3,
          0.4,
          0.7,
          0,
          1,
          0.1,
          0.1,
          0,
          0.3,
          0.7,
          0.3,
          0,
          0.2,
          1.3,
          0.3,
          0.3,
          0,
          1.7,
          0.5,
          0.6,
          0.7,
          0.4,
          0.7,
          1.6,
          1,
          0.7,
          0.2,
          0.1,
          0.7,
          0.3,
          0.5,
          0.8,
          0.6,
          0,
          1,
          0.7,
          0.5,
          0.1,
          0.4,
          1.1,
          0.8,
          0.1,
          0.4,
          0.9,
          0.7,
          0.2,
          0.4,
          0.7,
          0,
          0.1,
          0,
          0.6,
          1.4,
          0.1,
          0.5,
          0.7,
          1.1,
          0,
          1.1,
          0.7,
          0.5,
          0.6,
          1,
          0.4,
          0.2,
          0.5,
          1.2,
          1.4,
          0,
          0.1,
          1,
          0.9,
          0.4,
          1.1,
          0.9,
          0.8,
          1.1,
          0.4,
          0.5,
          1.1,
          0.7,
          0,
          1.1,
          0.4,
          1.2,
          1,
          0.8,
          0.8,
          0.5,
          0.8,
          1.1,
          1.6,
          0.7,
          0.5,
          0.6,
          0.5,
          0.3,
          0.9,
          0,
          1,
          0.7,
          0.3,
          1.3,
          0.3,
          0,
          0.8,
          0.4,
          0.6,
          0.5,
          0,
          0.9,
          1.3,
          0.2,
          0.8,
          1.2,
          1.4,
          0.9,
          0.9,
          1.3,
          0.8,
          0.1,
          0.7,
          0,
          1.2,
          0,
          1.2,
          1,
          1.2,
          1,
          0.1,
          0.1,
          0,
          0.2,
          0.8,
          0,
          0.5,
          0.3,
          0.2,
          0.4,
          1,
          0,
          0.7,
          0.7,
          0.2,
          0.7,
          0.2,
          0.3,
          0.7,
          0.4,
          1.1,
          0,
          1,
          1,
          0.4,
          0.7,
          0.2,
          0.8,
          1.4,
          0.8,
          0.9,
          0,
          1.2,
          0,
          0.4,
          0.3,
          0.6,
          0.3,
          0,
          0
         ],
         "y": [
          1.1,
          3.4,
          0.7,
          2.8,
          2.7,
          0.5,
          0.4,
          1.9,
          2,
          0,
          0.8,
          1.5,
          0.3,
          0.7,
          1,
          1.1,
          0.6,
          0.4,
          0.6,
          1,
          0.3,
          0.8,
          0.5,
          1.1,
          2.1,
          0.7,
          0.7,
          1,
          0.9,
          1.5,
          3.4,
          1.2,
          0,
          1.5,
          0.3,
          0.5,
          2,
          1.3,
          0.9,
          2.2,
          1.2,
          0.7,
          1.3,
          0.8,
          1.8,
          0.6,
          1.2,
          0.6,
          0.2,
          0.3,
          1.6,
          0.5,
          0.9,
          0.7,
          1,
          0.6,
          0.6,
          1.1,
          1,
          0.9,
          0.9,
          1.3,
          1.2,
          1.9,
          1,
          2.5,
          0.5,
          2.4,
          0.3,
          0.4,
          0.6,
          0.3,
          2.2,
          2.4,
          1.1,
          1,
          0.9,
          3.7,
          0.3,
          0.3,
          2.3,
          0.6,
          0.1,
          2.1,
          2.1,
          1.7,
          1.2,
          0.6,
          2.1,
          0.2,
          3.4,
          0.4,
          1.4,
          1.2,
          0.6,
          0.3,
          1.5,
          1.9,
          0.6,
          1.9,
          0.9,
          0.8,
          0.4,
          1,
          2.9,
          1.2,
          2,
          1.3,
          1.1,
          2,
          1.5,
          0.6,
          1.2,
          1.1,
          1.1,
          2.5,
          1.3,
          0.7,
          1,
          0.5,
          1.1,
          1.1,
          0.6,
          0.9,
          2.9,
          0.7,
          1,
          2.5,
          0.4,
          0.5,
          1.4,
          0.6,
          0.5,
          0.8,
          1.8,
          0.4,
          3.1,
          1.7,
          0.4,
          0.9,
          2.1,
          1.2,
          0.8,
          1,
          0.5,
          1.1,
          1.8,
          0.7,
          0.9,
          0.9,
          3.1,
          2.1,
          1.5,
          1.2,
          1.6,
          1,
          2,
          0.4,
          1.8,
          1,
          1.1,
          0.4,
          0.9,
          0.3,
          1.3,
          0.5,
          1,
          1.6,
          1.8,
          0,
          0.5,
          0,
          0.5,
          3.6,
          0.5,
          0,
          0.3,
          0.7,
          1.2,
          1.2,
          1.3,
          0,
          0.9,
          1.2,
          0.6,
          1.1,
          1.2,
          0.3,
          1.1,
          1.7,
          2.1,
          1.3,
          1,
          1.4,
          0.3,
          0.6,
          1.7,
          1.4,
          1,
          2.2,
          0.9,
          2,
          1,
          1.3,
          0.7,
          1.8,
          2.4,
          2,
          0.9,
          1.6
         ],
         "z": [
          3.6,
          2.8,
          1.7,
          2.4,
          3,
          1.5,
          0.6,
          1.7,
          3,
          2.2,
          4.7,
          1.3,
          1.3,
          2.3,
          1.8,
          2.6,
          2.4,
          1.1,
          0.5,
          2.5,
          3.4,
          1.6,
          1.3,
          3.1,
          3.6,
          1.7,
          1.2,
          1.6,
          2.9,
          1.5,
          1.6,
          5,
          1,
          1.5,
          0.9,
          1.8,
          3,
          4.5,
          3.8,
          2.7,
          2.6,
          2.4,
          4.5,
          1.2,
          3.4,
          2.3,
          3.1,
          2.4,
          1.2,
          0.5,
          1.6,
          2.1,
          4,
          0.8,
          2.9,
          1.7,
          1.4,
          5.5,
          2,
          2.4,
          2.7,
          3.7,
          1.9,
          2.4,
          2.1,
          2.7,
          1.8,
          3.4,
          1.1,
          0.9,
          3.5,
          0.8,
          2.2,
          2.4,
          4.4,
          1.9,
          2.7,
          1.5,
          3.2,
          0.7,
          2.6,
          1.1,
          1,
          2.3,
          2.6,
          2.4,
          3.1,
          2.1,
          3.5,
          0.4,
          2.4,
          1.9,
          4,
          2.4,
          1.2,
          1,
          1.9,
          2.7,
          0.9,
          2.3,
          3.4,
          1.9,
          1.7,
          2.7,
          1.9,
          2.4,
          2.5,
          3.5,
          2.2,
          2.5,
          3.1,
          1.3,
          3.5,
          2,
          3.5,
          2.9,
          3.5,
          1.8,
          0.8,
          1.5,
          3.6,
          2.2,
          3.9,
          1.9,
          1.4,
          1.3,
          3.4,
          3.1,
          1.5,
          1,
          3.2,
          1.8,
          2.6,
          1.6,
          2.8,
          1.4,
          2.9,
          1.1,
          2.3,
          1.3,
          3.2,
          1.5,
          1.8,
          3,
          0.9,
          3.3,
          3.1,
          1.4,
          3,
          0.7,
          2.8,
          3,
          3.1,
          3.3,
          2,
          2.6,
          2.3,
          1.5,
          2.4,
          3.4,
          1.7,
          1.4,
          3,
          1.2,
          2.2,
          3.6,
          2.7,
          3.7,
          3.5,
          1,
          2.7,
          0.4,
          1,
          2.1,
          3.5,
          0.5,
          0.6,
          2.5,
          3.5,
          4.1,
          1.9,
          0.5,
          3.2,
          3.3,
          0.7,
          2.3,
          1.8,
          0.6,
          3.5,
          1.6,
          2.9,
          2.9,
          1.9,
          3.1,
          0.9,
          1.5,
          3,
          3.1,
          2.7,
          3,
          3.2,
          4.4,
          3.1,
          2.8,
          0.7,
          2.3,
          1.6,
          2.7,
          2.3,
          4.1
         ]
        },
        {
         "hovertemplate": "color=0<br>3P=%{x}<br>AST=%{y}<br>FG=%{z}<extra></extra>",
         "legendgroup": "0",
         "marker": {
          "color": "#EF553B",
          "opacity": 0.8,
          "size": 5,
          "symbol": "circle"
         },
         "mode": "markers",
         "name": "0",
         "scene": "scene",
         "showlegend": true,
         "type": "scatter3d",
         "x": [
          0,
          0,
          0.1,
          0.8,
          1.4,
          0.9,
          1.4,
          1.2,
          0.5,
          1.1,
          1,
          0.3,
          1.7,
          0.9,
          0.2,
          1,
          1.2,
          0.3,
          0.1,
          1.4,
          1.4,
          0.7,
          1.3,
          0.8,
          1.1,
          1,
          1.4,
          0.9,
          0.4,
          1.3,
          0.3,
          1.7,
          1,
          1.2,
          0,
          1.4,
          0.6,
          1,
          1.7,
          0.4,
          0.9,
          0.8,
          1.2,
          1.5
         ],
         "y": [
          3.4,
          1.6,
          1.4,
          3.5,
          4.6,
          4.2,
          2.8,
          4.8,
          5.5,
          2.8,
          4,
          3.1,
          5.2,
          3.3,
          5.5,
          6.4,
          2.5,
          7,
          2,
          3.5,
          4.1,
          4.2,
          3.4,
          2.7,
          4.4,
          3.6,
          4.3,
          2.6,
          4.9,
          4.2,
          2.5,
          4.4,
          2.8,
          4.9,
          2.8,
          4,
          5.2,
          2.1,
          5.9,
          3.8,
          4.4,
          2.8,
          2.9,
          4.9
         ],
         "z": [
          7.3,
          6.6,
          7.6,
          6.2,
          3.1,
          3.6,
          7.1,
          6.4,
          7,
          5.8,
          2.5,
          9.3,
          4.6,
          3.6,
          4.6,
          5.2,
          5.8,
          2.9,
          5,
          6.8,
          5.3,
          2.7,
          3.9,
          3.7,
          3.4,
          2.7,
          6.5,
          4.1,
          3.7,
          4.7,
          6.1,
          5,
          3.2,
          4.1,
          6,
          4.7,
          7.1,
          6.2,
          4.2,
          2.8,
          4.1,
          4.7,
          5.8,
          4.5
         ]
        },
        {
         "hovertemplate": "color=1<br>3P=%{x}<br>AST=%{y}<br>FG=%{z}<extra></extra>",
         "legendgroup": "1",
         "marker": {
          "color": "#00cc96",
          "opacity": 0.8,
          "size": 5,
          "symbol": "circle"
         },
         "mode": "markers",
         "name": "1",
         "scene": "scene",
         "showlegend": true,
         "type": "scatter3d",
         "x": [
          1.6,
          2.4,
          2.4,
          1.5,
          3,
          1.8,
          2,
          2.2,
          1.8,
          1.2,
          3,
          2.6,
          1.4,
          2.1,
          1.9,
          2.1,
          2.4,
          1.4,
          1.2,
          2.2,
          1.8,
          1.9,
          2.5,
          1.6,
          1.8,
          2.5,
          1.7,
          2.2,
          1.6,
          3,
          1.7,
          2.2,
          2.5,
          1.9,
          2.3,
          1.3,
          2.4,
          1.9,
          2.9,
          1.8,
          3.2,
          2.4,
          2.2,
          1.4,
          1.9,
          1.7,
          1.6,
          2.5,
          2.1,
          2.7,
          1.5,
          1.9,
          1.5,
          2.5,
          1.6,
          2.2,
          2.1,
          2.1,
          1.9,
          2.8,
          2.3,
          1.9,
          2.1,
          1.5,
          1.7,
          1.9,
          1.9,
          2.5,
          1.1,
          1.8,
          2.4,
          1.8,
          1.6,
          2.9,
          1.8,
          2.7,
          3,
          1.5,
          1.9,
          1.8,
          2,
          1.6,
          1.7,
          2.2,
          2.2,
          1.9
         ],
         "y": [
          2.4,
          1.5,
          2.6,
          1.2,
          2.7,
          2.4,
          3,
          3.9,
          1.7,
          1.4,
          1.5,
          2.8,
          2.3,
          1.2,
          3,
          1.9,
          2.5,
          1.8,
          1.8,
          1.3,
          1.3,
          1.9,
          3.6,
          1.3,
          2.8,
          1.7,
          2.1,
          1.9,
          1,
          2.1,
          1.5,
          2.7,
          4.2,
          2.4,
          2.6,
          1.1,
          2.2,
          1.8,
          1,
          3.6,
          2.8,
          1.7,
          2.7,
          1.3,
          2.8,
          3.5,
          1.1,
          1.5,
          2.1,
          2.1,
          1.1,
          3.5,
          0.5,
          2.2,
          1.5,
          1.3,
          1,
          1.3,
          2.7,
          2.3,
          2.9,
          2.1,
          1.3,
          2.5,
          1.7,
          3.5,
          2,
          1.1,
          1.9,
          1.2,
          2.1,
          3.5,
          1.8,
          1.6,
          1.6,
          1.4,
          2,
          1,
          1.9,
          3.1,
          3.5,
          2.2,
          2.3,
          2.9,
          2.2,
          2.3
         ],
         "z": [
          3.9,
          3.9,
          6.4,
          4.2,
          6.7,
          5.1,
          7,
          5.5,
          3,
          4,
          4.2,
          5.5,
          5.6,
          3,
          3.5,
          4.7,
          5.9,
          3.1,
          6.3,
          3.5,
          2.9,
          3.2,
          5.6,
          3.8,
          2.8,
          5.7,
          4.9,
          4.1,
          3.1,
          5,
          3.9,
          4.7,
          3.9,
          6.3,
          6.1,
          4.5,
          5,
          3.9,
          4,
          5.8,
          5.5,
          3.5,
          4.7,
          4.8,
          3.3,
          2.6,
          5.5,
          4.2,
          6.3,
          4.1,
          3,
          6.4,
          4.7,
          4.4,
          3.9,
          5.1,
          2.8,
          4.2,
          3.8,
          4,
          5.1,
          5.6,
          3.2,
          2.6,
          3.1,
          4.4,
          3.7,
          5.4,
          4.1,
          5.8,
          6.2,
          3.6,
          3.6,
          3.7,
          2.8,
          3.7,
          6.4,
          4.8,
          4.6,
          3.1,
          4,
          4.4,
          3.8,
          4.6,
          6.5,
          6.5
         ]
        },
        {
         "hovertemplate": "color=3<br>3P=%{x}<br>AST=%{y}<br>FG=%{z}<extra></extra>",
         "legendgroup": "3",
         "marker": {
          "color": "#ab63fa",
          "opacity": 0.8,
          "size": 5,
          "symbol": "circle"
         },
         "mode": "markers",
         "name": "3",
         "scene": "scene",
         "showlegend": true,
         "type": "scatter3d",
         "x": [
          1.1,
          2,
          2.9,
          3.1,
          1.6,
          2.7,
          1.6,
          2.5,
          2.3,
          1.8,
          4.5,
          0.7,
          2.1,
          3,
          1.4,
          1.3,
          2.6,
          2.9,
          1.6,
          2.1,
          2.3,
          2.7,
          2,
          1.3,
          3.4,
          2.2,
          2.9,
          2.8,
          3.2,
          2.3,
          1.8,
          2.9,
          2.5,
          3.5,
          1.5,
          1.4,
          1,
          2.8,
          2.5,
          1.7,
          3,
          1.7,
          2.7,
          1.1,
          3.1,
          3,
          3.6,
          2,
          3.7,
          1,
          3.1
         ],
         "y": [
          5.8,
          5.7,
          7.6,
          5.1,
          6.6,
          4.8,
          5.9,
          3.5,
          5.3,
          5.6,
          6.3,
          4.9,
          6.4,
          3.8,
          4.2,
          5.6,
          8.6,
          5.7,
          5.9,
          8.2,
          10.3,
          4,
          6.8,
          5.6,
          5.8,
          4.8,
          6.2,
          4.5,
          7.3,
          7.5,
          4.3,
          5.1,
          5.4,
          5.3,
          6.7,
          9.2,
          10.8,
          4,
          6.2,
          5.1,
          4.5,
          6.6,
          7.1,
          5.3,
          3.9,
          4.4,
          2.8,
          3.6,
          6.7,
          7.1,
          9.7
         ],
         "z": [
          10.3,
          5.5,
          7.2,
          4.6,
          8.7,
          9.7,
          6.8,
          8.7,
          4.8,
          6.7,
          8.4,
          10.2,
          10.5,
          7.6,
          9.8,
          8.7,
          8,
          8.6,
          8.5,
          5.6,
          6.3,
          7.6,
          7.1,
          8.2,
          10,
          6.4,
          11.4,
          8.4,
          7.7,
          4.4,
          6.4,
          8.6,
          6.8,
          9.2,
          10.2,
          8.4,
          5.6,
          6.2,
          5.5,
          7.1,
          7.1,
          4.4,
          6.2,
          8.8,
          6.2,
          9.3,
          7.7,
          8.7,
          6.8,
          7,
          9.4
         ]
        }
       ],
       "layout": {
        "legend": {
         "title": {
          "text": "color"
         },
         "tracegroupgap": 0
        },
        "scene": {
         "domain": {
          "x": [
           0,
           1
          ],
          "y": [
           0,
           1
          ]
         },
         "xaxis": {
          "title": {
           "text": "3P"
          }
         },
         "yaxis": {
          "title": {
           "text": "AST"
          }
         },
         "zaxis": {
          "title": {
           "text": "FG"
          }
         }
        },
        "template": {
         "data": {
          "bar": [
           {
            "error_x": {
             "color": "#2a3f5f"
            },
            "error_y": {
             "color": "#2a3f5f"
            },
            "marker": {
             "line": {
              "color": "#E5ECF6",
              "width": 0.5
             },
             "pattern": {
              "fillmode": "overlay",
              "size": 10,
              "solidity": 0.2
             }
            },
            "type": "bar"
           }
          ],
          "barpolar": [
           {
            "marker": {
             "line": {
              "color": "#E5ECF6",
              "width": 0.5
             },
             "pattern": {
              "fillmode": "overlay",
              "size": 10,
              "solidity": 0.2
             }
            },
            "type": "barpolar"
           }
          ],
          "carpet": [
           {
            "aaxis": {
             "endlinecolor": "#2a3f5f",
             "gridcolor": "white",
             "linecolor": "white",
             "minorgridcolor": "white",
             "startlinecolor": "#2a3f5f"
            },
            "baxis": {
             "endlinecolor": "#2a3f5f",
             "gridcolor": "white",
             "linecolor": "white",
             "minorgridcolor": "white",
             "startlinecolor": "#2a3f5f"
            },
            "type": "carpet"
           }
          ],
          "choropleth": [
           {
            "colorbar": {
             "outlinewidth": 0,
             "ticks": ""
            },
            "type": "choropleth"
           }
          ],
          "contour": [
           {
            "colorbar": {
             "outlinewidth": 0,
             "ticks": ""
            },
            "colorscale": [
             [
              0,
              "#0d0887"
             ],
             [
              0.1111111111111111,
              "#46039f"
             ],
             [
              0.2222222222222222,
              "#7201a8"
             ],
             [
              0.3333333333333333,
              "#9c179e"
             ],
             [
              0.4444444444444444,
              "#bd3786"
             ],
             [
              0.5555555555555556,
              "#d8576b"
             ],
             [
              0.6666666666666666,
              "#ed7953"
             ],
             [
              0.7777777777777778,
              "#fb9f3a"
             ],
             [
              0.8888888888888888,
              "#fdca26"
             ],
             [
              1,
              "#f0f921"
             ]
            ],
            "type": "contour"
           }
          ],
          "contourcarpet": [
           {
            "colorbar": {
             "outlinewidth": 0,
             "ticks": ""
            },
            "type": "contourcarpet"
           }
          ],
          "heatmap": [
           {
            "colorbar": {
             "outlinewidth": 0,
             "ticks": ""
            },
            "colorscale": [
             [
              0,
              "#0d0887"
             ],
             [
              0.1111111111111111,
              "#46039f"
             ],
             [
              0.2222222222222222,
              "#7201a8"
             ],
             [
              0.3333333333333333,
              "#9c179e"
             ],
             [
              0.4444444444444444,
              "#bd3786"
             ],
             [
              0.5555555555555556,
              "#d8576b"
             ],
             [
              0.6666666666666666,
              "#ed7953"
             ],
             [
              0.7777777777777778,
              "#fb9f3a"
             ],
             [
              0.8888888888888888,
              "#fdca26"
             ],
             [
              1,
              "#f0f921"
             ]
            ],
            "type": "heatmap"
           }
          ],
          "heatmapgl": [
           {
            "colorbar": {
             "outlinewidth": 0,
             "ticks": ""
            },
            "colorscale": [
             [
              0,
              "#0d0887"
             ],
             [
              0.1111111111111111,
              "#46039f"
             ],
             [
              0.2222222222222222,
              "#7201a8"
             ],
             [
              0.3333333333333333,
              "#9c179e"
             ],
             [
              0.4444444444444444,
              "#bd3786"
             ],
             [
              0.5555555555555556,
              "#d8576b"
             ],
             [
              0.6666666666666666,
              "#ed7953"
             ],
             [
              0.7777777777777778,
              "#fb9f3a"
             ],
             [
              0.8888888888888888,
              "#fdca26"
             ],
             [
              1,
              "#f0f921"
             ]
            ],
            "type": "heatmapgl"
           }
          ],
          "histogram": [
           {
            "marker": {
             "pattern": {
              "fillmode": "overlay",
              "size": 10,
              "solidity": 0.2
             }
            },
            "type": "histogram"
           }
          ],
          "histogram2d": [
           {
            "colorbar": {
             "outlinewidth": 0,
             "ticks": ""
            },
            "colorscale": [
             [
              0,
              "#0d0887"
             ],
             [
              0.1111111111111111,
              "#46039f"
             ],
             [
              0.2222222222222222,
              "#7201a8"
             ],
             [
              0.3333333333333333,
              "#9c179e"
             ],
             [
              0.4444444444444444,
              "#bd3786"
             ],
             [
              0.5555555555555556,
              "#d8576b"
             ],
             [
              0.6666666666666666,
              "#ed7953"
             ],
             [
              0.7777777777777778,
              "#fb9f3a"
             ],
             [
              0.8888888888888888,
              "#fdca26"
             ],
             [
              1,
              "#f0f921"
             ]
            ],
            "type": "histogram2d"
           }
          ],
          "histogram2dcontour": [
           {
            "colorbar": {
             "outlinewidth": 0,
             "ticks": ""
            },
            "colorscale": [
             [
              0,
              "#0d0887"
             ],
             [
              0.1111111111111111,
              "#46039f"
             ],
             [
              0.2222222222222222,
              "#7201a8"
             ],
             [
              0.3333333333333333,
              "#9c179e"
             ],
             [
              0.4444444444444444,
              "#bd3786"
             ],
             [
              0.5555555555555556,
              "#d8576b"
             ],
             [
              0.6666666666666666,
              "#ed7953"
             ],
             [
              0.7777777777777778,
              "#fb9f3a"
             ],
             [
              0.8888888888888888,
              "#fdca26"
             ],
             [
              1,
              "#f0f921"
             ]
            ],
            "type": "histogram2dcontour"
           }
          ],
          "mesh3d": [
           {
            "colorbar": {
             "outlinewidth": 0,
             "ticks": ""
            },
            "type": "mesh3d"
           }
          ],
          "parcoords": [
           {
            "line": {
             "colorbar": {
              "outlinewidth": 0,
              "ticks": ""
             }
            },
            "type": "parcoords"
           }
          ],
          "pie": [
           {
            "automargin": true,
            "type": "pie"
           }
          ],
          "scatter": [
           {
            "fillpattern": {
             "fillmode": "overlay",
             "size": 10,
             "solidity": 0.2
            },
            "type": "scatter"
           }
          ],
          "scatter3d": [
           {
            "line": {
             "colorbar": {
              "outlinewidth": 0,
              "ticks": ""
             }
            },
            "marker": {
             "colorbar": {
              "outlinewidth": 0,
              "ticks": ""
             }
            },
            "type": "scatter3d"
           }
          ],
          "scattercarpet": [
           {
            "marker": {
             "colorbar": {
              "outlinewidth": 0,
              "ticks": ""
             }
            },
            "type": "scattercarpet"
           }
          ],
          "scattergeo": [
           {
            "marker": {
             "colorbar": {
              "outlinewidth": 0,
              "ticks": ""
             }
            },
            "type": "scattergeo"
           }
          ],
          "scattergl": [
           {
            "marker": {
             "colorbar": {
              "outlinewidth": 0,
              "ticks": ""
             }
            },
            "type": "scattergl"
           }
          ],
          "scattermapbox": [
           {
            "marker": {
             "colorbar": {
              "outlinewidth": 0,
              "ticks": ""
             }
            },
            "type": "scattermapbox"
           }
          ],
          "scatterpolar": [
           {
            "marker": {
             "colorbar": {
              "outlinewidth": 0,
              "ticks": ""
             }
            },
            "type": "scatterpolar"
           }
          ],
          "scatterpolargl": [
           {
            "marker": {
             "colorbar": {
              "outlinewidth": 0,
              "ticks": ""
             }
            },
            "type": "scatterpolargl"
           }
          ],
          "scatterternary": [
           {
            "marker": {
             "colorbar": {
              "outlinewidth": 0,
              "ticks": ""
             }
            },
            "type": "scatterternary"
           }
          ],
          "surface": [
           {
            "colorbar": {
             "outlinewidth": 0,
             "ticks": ""
            },
            "colorscale": [
             [
              0,
              "#0d0887"
             ],
             [
              0.1111111111111111,
              "#46039f"
             ],
             [
              0.2222222222222222,
              "#7201a8"
             ],
             [
              0.3333333333333333,
              "#9c179e"
             ],
             [
              0.4444444444444444,
              "#bd3786"
             ],
             [
              0.5555555555555556,
              "#d8576b"
             ],
             [
              0.6666666666666666,
              "#ed7953"
             ],
             [
              0.7777777777777778,
              "#fb9f3a"
             ],
             [
              0.8888888888888888,
              "#fdca26"
             ],
             [
              1,
              "#f0f921"
             ]
            ],
            "type": "surface"
           }
          ],
          "table": [
           {
            "cells": {
             "fill": {
              "color": "#EBF0F8"
             },
             "line": {
              "color": "white"
             }
            },
            "header": {
             "fill": {
              "color": "#C8D4E3"
             },
             "line": {
              "color": "white"
             }
            },
            "type": "table"
           }
          ]
         },
         "layout": {
          "annotationdefaults": {
           "arrowcolor": "#2a3f5f",
           "arrowhead": 0,
           "arrowwidth": 1
          },
          "autotypenumbers": "strict",
          "coloraxis": {
           "colorbar": {
            "outlinewidth": 0,
            "ticks": ""
           }
          },
          "colorscale": {
           "diverging": [
            [
             0,
             "#8e0152"
            ],
            [
             0.1,
             "#c51b7d"
            ],
            [
             0.2,
             "#de77ae"
            ],
            [
             0.3,
             "#f1b6da"
            ],
            [
             0.4,
             "#fde0ef"
            ],
            [
             0.5,
             "#f7f7f7"
            ],
            [
             0.6,
             "#e6f5d0"
            ],
            [
             0.7,
             "#b8e186"
            ],
            [
             0.8,
             "#7fbc41"
            ],
            [
             0.9,
             "#4d9221"
            ],
            [
             1,
             "#276419"
            ]
           ],
           "sequential": [
            [
             0,
             "#0d0887"
            ],
            [
             0.1111111111111111,
             "#46039f"
            ],
            [
             0.2222222222222222,
             "#7201a8"
            ],
            [
             0.3333333333333333,
             "#9c179e"
            ],
            [
             0.4444444444444444,
             "#bd3786"
            ],
            [
             0.5555555555555556,
             "#d8576b"
            ],
            [
             0.6666666666666666,
             "#ed7953"
            ],
            [
             0.7777777777777778,
             "#fb9f3a"
            ],
            [
             0.8888888888888888,
             "#fdca26"
            ],
            [
             1,
             "#f0f921"
            ]
           ],
           "sequentialminus": [
            [
             0,
             "#0d0887"
            ],
            [
             0.1111111111111111,
             "#46039f"
            ],
            [
             0.2222222222222222,
             "#7201a8"
            ],
            [
             0.3333333333333333,
             "#9c179e"
            ],
            [
             0.4444444444444444,
             "#bd3786"
            ],
            [
             0.5555555555555556,
             "#d8576b"
            ],
            [
             0.6666666666666666,
             "#ed7953"
            ],
            [
             0.7777777777777778,
             "#fb9f3a"
            ],
            [
             0.8888888888888888,
             "#fdca26"
            ],
            [
             1,
             "#f0f921"
            ]
           ]
          },
          "colorway": [
           "#636efa",
           "#EF553B",
           "#00cc96",
           "#ab63fa",
           "#FFA15A",
           "#19d3f3",
           "#FF6692",
           "#B6E880",
           "#FF97FF",
           "#FECB52"
          ],
          "font": {
           "color": "#2a3f5f"
          },
          "geo": {
           "bgcolor": "white",
           "lakecolor": "white",
           "landcolor": "#E5ECF6",
           "showlakes": true,
           "showland": true,
           "subunitcolor": "white"
          },
          "hoverlabel": {
           "align": "left"
          },
          "hovermode": "closest",
          "mapbox": {
           "style": "light"
          },
          "paper_bgcolor": "white",
          "plot_bgcolor": "#E5ECF6",
          "polar": {
           "angularaxis": {
            "gridcolor": "white",
            "linecolor": "white",
            "ticks": ""
           },
           "bgcolor": "#E5ECF6",
           "radialaxis": {
            "gridcolor": "white",
            "linecolor": "white",
            "ticks": ""
           }
          },
          "scene": {
           "xaxis": {
            "backgroundcolor": "#E5ECF6",
            "gridcolor": "white",
            "gridwidth": 2,
            "linecolor": "white",
            "showbackground": true,
            "ticks": "",
            "zerolinecolor": "white"
           },
           "yaxis": {
            "backgroundcolor": "#E5ECF6",
            "gridcolor": "white",
            "gridwidth": 2,
            "linecolor": "white",
            "showbackground": true,
            "ticks": "",
            "zerolinecolor": "white"
           },
           "zaxis": {
            "backgroundcolor": "#E5ECF6",
            "gridcolor": "white",
            "gridwidth": 2,
            "linecolor": "white",
            "showbackground": true,
            "ticks": "",
            "zerolinecolor": "white"
           }
          },
          "shapedefaults": {
           "line": {
            "color": "#2a3f5f"
           }
          },
          "ternary": {
           "aaxis": {
            "gridcolor": "white",
            "linecolor": "white",
            "ticks": ""
           },
           "baxis": {
            "gridcolor": "white",
            "linecolor": "white",
            "ticks": ""
           },
           "bgcolor": "#E5ECF6",
           "caxis": {
            "gridcolor": "white",
            "linecolor": "white",
            "ticks": ""
           }
          },
          "title": {
           "x": 0.05
          },
          "xaxis": {
           "automargin": true,
           "gridcolor": "white",
           "linecolor": "white",
           "ticks": "",
           "title": {
            "standoff": 15
           },
           "zerolinecolor": "white",
           "zerolinewidth": 2
          },
          "yaxis": {
           "automargin": true,
           "gridcolor": "white",
           "linecolor": "white",
           "ticks": "",
           "title": {
            "standoff": 15
           },
           "zerolinecolor": "white",
           "zerolinewidth": 2
          }
         }
        },
        "title": {
         "text": "NBA Players Clustering (Final Model with k=4)"
        }
       }
      }
     },
     "metadata": {},
     "output_type": "display_data"
    }
   ],
   "source": [
    "#Use the recommended number of cluster (assuming it's different) to retrain your model and visualize the results\n",
    "\n",
    "# We can see tha that the silhouette score drops sharply after k=4, indicating that the optimal number of clusters is likely around 3 or 4.\n",
    "k_final = 4\n",
    "\n",
    "# Retraining KMeans\n",
    "kmeans_final = KMeans(n_clusters=k_final, random_state=42, n_init=10)\n",
    "kmeans_final.fit(X_scaled)\n",
    "\n",
    "# Assigning the new cluster labels back to the original dataframe\n",
    "df['Cluster'] = kmeans_final.labels_\n",
    "\n",
    "# 3D Visualization with final model\n",
    "import plotly.express as px\n",
    "\n",
    "fig = px.scatter_3d(\n",
    "    df,\n",
    "    x='3P',\n",
    "    y='AST',\n",
    "    z='FG',\n",
    "    color=df['Cluster'].astype(str),\n",
    "    title=f'NBA Players Clustering (Final Model with k={k_final})',\n",
    "    labels={'3P','AST', 'FG'}\n",
    ")\n",
    "\n",
    "fig.update_traces(marker=dict(size=5, opacity=0.8))\n",
    "fig.show()\n",
    "\n"
   ]
  },
  {
   "cell_type": "code",
   "execution_count": 17,
   "metadata": {},
   "outputs": [
    {
     "name": "stdout",
     "output_type": "stream",
     "text": [
      "Total Variance Explained: 0.7016\n",
      "Silhouette Score: 0.3947\n"
     ]
    }
   ],
   "source": [
    "#Once again evaluate the quality of the clustering using total variance explained and silhouette scores\n",
    "\n",
    "from sklearn.cluster import KMeans\n",
    "from sklearn.metrics import silhouette_score\n",
    "import numpy as np\n",
    "\n",
    "# Step 1: Retrain KMeans with k=4\n",
    "k_final = 4\n",
    "final_kmeans = KMeans(n_clusters=k_final, random_state=42, n_init=10)\n",
    "final_kmeans.fit(X_scaled)\n",
    "\n",
    "# Adding the cluster labels back to your original df\n",
    "df['Cluster'] = final_kmeans.labels_\n",
    "\n",
    "# Evaluating\n",
    "\n",
    "# Total Variance Explained\n",
    "tss = np.sum((X_scaled - np.mean(X_scaled, axis=0))**2)\n",
    "\n",
    "# Inertia\n",
    "inertia = final_kmeans.inertia_\n",
    "\n",
    "bss = tss - inertia\n",
    "\n",
    "# Variance explained\n",
    "variance_explained = bss / tss\n",
    "print(f\"Total Variance Explained: {variance_explained:.4f}\")\n",
    "\n",
    "# Silhouette Score\n",
    "sil_score = silhouette_score(X_scaled, final_kmeans.labels_)\n",
    "print(f\"Silhouette Score: {sil_score:.4f}\")\n"
   ]
  },
  {
   "cell_type": "code",
   "execution_count": null,
   "metadata": {},
   "outputs": [],
   "source": [
    "#Use the model to select players for Mr. Rooney to consider"
   ]
  },
  {
   "cell_type": "code",
   "execution_count": 18,
   "metadata": {},
   "outputs": [
    {
     "name": "stdout",
     "output_type": "stream",
     "text": [
      "Good Choices for Mr. Rooney\n",
      "                       Player    Pos   3P  AST   FG     Salary  Cluster\n",
      "28               Desmond Bane     SG  3.0  2.7  6.7  2130240.0        1\n",
      "395         Immanuel Quickley     PG  1.8  3.5  3.6  2316240.0        1\n",
      "314              Tyrese Maxey     PG  1.8  4.3  6.4  2726880.0        3\n",
      "42                 Saddiq Bey     SF  2.6  2.8  5.5  2959080.0        1\n",
      "383          Kevin Porter Jr.     PG  2.5  6.2  5.5  3217631.0        3\n",
      "13               Cole Anthony     PG  2.0  5.7  5.5  3613680.0        3\n",
      "244            Keldon Johnson     SF  2.1  2.1  6.3  3873025.0        1\n",
      "382              Jordan Poole     SG  2.8  4.0  6.2  3901399.0        3\n",
      "124              Chris Duarte     SG  1.7  2.1  4.9  3936960.0        1\n",
      "178         Tyrese Haliburton  SG-PG  2.1  8.2  5.6  4215120.0        3\n",
      "467             Devin Vassell     SF  1.9  1.9  4.6  4437000.0        1\n",
      "335           Davion Mitchell     PG  1.3  4.2  4.7  4833600.0        0\n",
      "4    Nickeil Alexander-Walker     SG  1.6  2.4  3.9  5009633.0        1\n",
      "470              Franz Wagner     SF  1.2  2.9  5.8  5258280.0        0\n",
      "\n",
      "Bad Choices for Mr. Rooney\n",
      "               Player Pos   3P  AST   FG        Salary  Cluster\n",
      "280    Romeo Langford  SG  0.6  0.4  1.7  5.634257e+06        2\n",
      "43         Khem Birch   C  0.0  1.0  1.8  6.667500e+06        2\n",
      "108    Dewayne Dedmon   C  0.3  0.7  2.4  7.566667e+06        2\n",
      "488  Patrick Williams  PF  0.9  0.9  3.2  7.775400e+06        2\n",
      "377    Gary Payton II  SG  0.6  0.9  3.0  8.300000e+06        2\n",
      "450      Daniel Theis   C  0.7  0.9  3.2  8.694369e+06        2\n",
      "360      Nerlens Noel   C  0.0  0.9  1.3  9.240000e+06        2\n",
      "472     Ish Wainright  PF  0.4  0.3  0.9  9.270959e+06        2\n",
      "255    DeAndre Jordan   C  0.0  0.4  1.9  9.663997e+06        2\n",
      "170    JaMychal Green  PF  0.5  0.9  2.4  1.003609e+07        2\n",
      "132    Derrick Favors   C  0.1  0.6  2.4  1.018380e+07        2\n"
     ]
    }
   ],
   "source": [
    "# Step 1: Computing Medians (to use as criteria)\n",
    "median_salary = df['Salary'].median()\n",
    "median_3P = df['3P'].median()\n",
    "median_AST = df['AST'].median()\n",
    "median_FG = df['FG'].median()\n",
    "\n",
    "# Step 2: Good Choices (ALL three metrics above median and Salary below median)\n",
    "good_choices = df[\n",
    "    (df['Salary'] < median_salary) &\n",
    "    (df['3P'] > median_3P) &\n",
    "    (df['AST'] > median_AST) &\n",
    "    (df['FG'] > median_FG)\n",
    "]\n",
    "\n",
    "# Step 3: Bad Choices (ALL three metrics below median and Salary above median)\n",
    "bad_choices = df[\n",
    "    (df['Salary'] > median_salary) &\n",
    "    (df['3P'] < median_3P) &\n",
    "    (df['AST'] < median_AST) &\n",
    "    (df['FG'] < median_FG)\n",
    "]\n",
    "\n",
    "print(\"Good Choices for Mr. Rooney\")\n",
    "print(good_choices[['Player', 'Pos', '3P', 'AST', 'FG', 'Salary', 'Cluster']].sort_values(by='Salary'))\n",
    "\n",
    "print(\"\\nBad Choices for Mr. Rooney\")\n",
    "print(bad_choices[['Player', 'Pos', '3P', 'AST', 'FG', 'Salary', 'Cluster']].sort_values(by='Salary'))\n"
   ]
  },
  {
   "cell_type": "code",
   "execution_count": 19,
   "metadata": {},
   "outputs": [
    {
     "name": "stdout",
     "output_type": "stream",
     "text": [
      "Top 5 Good Choices:\n",
      "                Player Pos   3P  AST   FG     Salary  Cluster\n",
      "28        Desmond Bane  SG  3.0  2.7  6.7  2130240.0        1\n",
      "395  Immanuel Quickley  PG  1.8  3.5  3.6  2316240.0        1\n",
      "314       Tyrese Maxey  PG  1.8  4.3  6.4  2726880.0        3\n",
      "42          Saddiq Bey  SF  2.6  2.8  5.5  2959080.0        1\n",
      "383   Kevin Porter Jr.  PG  2.5  6.2  5.5  3217631.0        3\n",
      "\n",
      "Top 5 Bad Choices:\n",
      "             Player Pos   3P  AST   FG        Salary  Cluster\n",
      "132  Derrick Favors   C  0.1  0.6  2.4  1.018380e+07        2\n",
      "170  JaMychal Green  PF  0.5  0.9  2.4  1.003609e+07        2\n",
      "255  DeAndre Jordan   C  0.0  0.4  1.9  9.663997e+06        2\n",
      "472   Ish Wainright  PF  0.4  0.3  0.9  9.270959e+06        2\n",
      "360    Nerlens Noel   C  0.0  0.9  1.3  9.240000e+06        2\n"
     ]
    }
   ],
   "source": [
    "# Pick how many unique players to display from each group\n",
    "\n",
    "num_players_to_display = 5\n",
    "\n",
    "# Top 5 Good Choices (lowest salary)\n",
    "top_good_choices = good_choices.sort_values(by='Salary').head(num_players_to_display)\n",
    "\n",
    "# Top 5 Bad Choices (highest salary)\n",
    "top_bad_choices = bad_choices.sort_values(by='Salary', ascending=False).head(num_players_to_display)\n",
    "\n",
    "print(f\"Top {num_players_to_display} Good Choices:\")\n",
    "print(top_good_choices[['Player', 'Pos', '3P', 'AST', 'FG', 'Salary', 'Cluster']])\n",
    "\n",
    "print(f\"\\nTop {num_players_to_display} Bad Choices:\")\n",
    "print(top_bad_choices[['Player', 'Pos', '3P', 'AST', 'FG', 'Salary', 'Cluster']])\n"
   ]
  },
  {
   "cell_type": "markdown",
   "metadata": {},
   "source": [
    "#Write up the results in a separate notebook with supporting visualizations and \n",
    "an overview of how and why you made the choices you did. This should be at least \n",
    "500 words and should be written for a non-technical audience."
   ]
  }
 ],
 "metadata": {
  "kernelspec": {
   "display_name": "Python 3",
   "language": "python",
   "name": "python3"
  },
  "language_info": {
   "codemirror_mode": {
    "name": "ipython",
    "version": 3
   },
   "file_extension": ".py",
   "mimetype": "text/x-python",
   "name": "python",
   "nbconvert_exporter": "python",
   "pygments_lexer": "ipython3",
   "version": "3.12.5"
  }
 },
 "nbformat": 4,
 "nbformat_minor": 2
}
