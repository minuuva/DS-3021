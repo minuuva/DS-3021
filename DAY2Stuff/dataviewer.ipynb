import pandas as pd

data = pd.read_csv("mascot_ranking.csv")

data